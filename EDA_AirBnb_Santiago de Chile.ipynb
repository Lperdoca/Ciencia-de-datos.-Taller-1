{
 "cells": [
  {
   "cell_type": "markdown",
   "id": "65642d56-c596-4f2b-9bb1-90e2c403b899",
   "metadata": {},
   "source": [
    "<a href=\"https://colab.research.google.com/github/datascience-uniandes/data-analysis-tutorial/blob/master/airbnb/eda.ipynb\" target=\"_parent\"><img src=\"https://colab.research.google.com/assets/colab-badge.svg\" alt=\"Open In Colab\"/></a>"
   ]
  },
  {
   "cell_type": "markdown",
   "id": "5ed0788a-edef-4304-a544-c35aed7bb02c",
   "metadata": {},
   "source": [
    "# Exploratory Data Analysis (EDA)\n",
    "\n",
    "MINE-4101: Applied Data Science  \n",
    "Univerisdad de los Andes\n",
    "Lizeth Viviana Perdomo Castañeda  \n",
    "  \n",
    "**Dataset:** AirBnb Listings - Santiago, Región Metropolitana de Santiago, Chile [[dataset](http://insideairbnb.com/get-the-data/) | [dictionary](https://docs.google.com/spreadsheets/d/1iWCNJcSutYqpULSQHlNyGInUvHg2BoUGoNRIGa6Szc4/edit?usp=sharing)]. This dataset comprises information about Airbnb property listings in Santiago de Chile. It includes data points like neighborhood, property type, price per night, number of reviews, review scores, availability, amenities, and more.\n",
    "\n",
    "**Business Context:** Property Investment and Vacation Rental Strategy. You're a consultant for individuals and firms looking to invest in properties for Airbnb rentals. They want to identify the most lucrative neighborhoods, optimal pricing strategies, and understand the factors that contribute to positive reviews and frequent bookings.\n",
    "\n",
    "Last update: August, 2024"
   ]
  },
  {
   "cell_type": "code",
   "execution_count": 1,
   "id": "cc428e33",
   "metadata": {},
   "outputs": [],
   "source": [
    "import pip"
   ]
  },
  {
   "cell_type": "code",
   "execution_count": 2,
   "id": "0ea2c546",
   "metadata": {},
   "outputs": [
    {
     "name": "stderr",
     "output_type": "stream",
     "text": [
      "WARNING: pip is being invoked by an old script wrapper. This will fail in a future version of pip.\n",
      "Please see https://github.com/pypa/pip/issues/5599 for advice on fixing the underlying issue.\n",
      "To avoid this problem you can invoke Python with '-m pip' instead of running pip directly.\n"
     ]
    },
    {
     "data": {
      "text/html": [
       "<pre style=\"white-space:pre;overflow-x:auto;line-height:normal;font-family:Menlo,'DejaVu Sans Mono',consolas,'Courier New',monospace\">Requirement already satisfied: seaborn in c:\\users\\lperd\\appdata\\local\\programs\\python\\python312\\lib\\site-packages (0.13.2)\n",
       "</pre>\n"
      ],
      "text/plain": [
       "Requirement already satisfied: seaborn in c:\\users\\lperd\\appdata\\local\\programs\\python\\python312\\lib\\site-packages (0.13.2)\n"
      ]
     },
     "metadata": {},
     "output_type": "display_data"
    },
    {
     "data": {
      "text/html": [
       "<pre style=\"white-space:pre;overflow-x:auto;line-height:normal;font-family:Menlo,'DejaVu Sans Mono',consolas,'Courier New',monospace\">Requirement already satisfied: numpy!=1.24.0,&gt;=1.20 in c:\\users\\lperd\\appdata\\local\\programs\\python\\python312\\lib\\site-packages (from seaborn) (2.1.0)\n",
       "</pre>\n"
      ],
      "text/plain": [
       "Requirement already satisfied: numpy!=1.24.0,>=1.20 in c:\\users\\lperd\\appdata\\local\\programs\\python\\python312\\lib\\site-packages (from seaborn) (2.1.0)\n"
      ]
     },
     "metadata": {},
     "output_type": "display_data"
    },
    {
     "data": {
      "text/html": [
       "<pre style=\"white-space:pre;overflow-x:auto;line-height:normal;font-family:Menlo,'DejaVu Sans Mono',consolas,'Courier New',monospace\">Requirement already satisfied: pandas&gt;=1.2 in c:\\users\\lperd\\appdata\\local\\programs\\python\\python312\\lib\\site-packages (from seaborn) (2.2.2)\n",
       "</pre>\n"
      ],
      "text/plain": [
       "Requirement already satisfied: pandas>=1.2 in c:\\users\\lperd\\appdata\\local\\programs\\python\\python312\\lib\\site-packages (from seaborn) (2.2.2)\n"
      ]
     },
     "metadata": {},
     "output_type": "display_data"
    },
    {
     "data": {
      "text/html": [
       "<pre style=\"white-space:pre;overflow-x:auto;line-height:normal;font-family:Menlo,'DejaVu Sans Mono',consolas,'Courier New',monospace\">Requirement already satisfied: matplotlib!=3.6.1,&gt;=3.4 in c:\\users\\lperd\\appdata\\local\\programs\\python\\python312\\lib\\site-packages (from seaborn) (3.9.2)\n",
       "</pre>\n"
      ],
      "text/plain": [
       "Requirement already satisfied: matplotlib!=3.6.1,>=3.4 in c:\\users\\lperd\\appdata\\local\\programs\\python\\python312\\lib\\site-packages (from seaborn) (3.9.2)\n"
      ]
     },
     "metadata": {},
     "output_type": "display_data"
    },
    {
     "data": {
      "text/html": [
       "<pre style=\"white-space:pre;overflow-x:auto;line-height:normal;font-family:Menlo,'DejaVu Sans Mono',consolas,'Courier New',monospace\">Requirement already satisfied: contourpy&gt;=1.0.1 in c:\\users\\lperd\\appdata\\local\\programs\\python\\python312\\lib\\site-packages (from matplotlib!=3.6.1,&gt;=3.4-&gt;seaborn) (1.2.1)\n",
       "</pre>\n"
      ],
      "text/plain": [
       "Requirement already satisfied: contourpy>=1.0.1 in c:\\users\\lperd\\appdata\\local\\programs\\python\\python312\\lib\\site-packages (from matplotlib!=3.6.1,>=3.4->seaborn) (1.2.1)\n"
      ]
     },
     "metadata": {},
     "output_type": "display_data"
    },
    {
     "data": {
      "text/html": [
       "<pre style=\"white-space:pre;overflow-x:auto;line-height:normal;font-family:Menlo,'DejaVu Sans Mono',consolas,'Courier New',monospace\">Requirement already satisfied: cycler&gt;=0.10 in c:\\users\\lperd\\appdata\\local\\programs\\python\\python312\\lib\\site-packages (from matplotlib!=3.6.1,&gt;=3.4-&gt;seaborn) (0.12.1)\n",
       "</pre>\n"
      ],
      "text/plain": [
       "Requirement already satisfied: cycler>=0.10 in c:\\users\\lperd\\appdata\\local\\programs\\python\\python312\\lib\\site-packages (from matplotlib!=3.6.1,>=3.4->seaborn) (0.12.1)\n"
      ]
     },
     "metadata": {},
     "output_type": "display_data"
    },
    {
     "data": {
      "text/html": [
       "<pre style=\"white-space:pre;overflow-x:auto;line-height:normal;font-family:Menlo,'DejaVu Sans Mono',consolas,'Courier New',monospace\">Requirement already satisfied: fonttools&gt;=4.22.0 in c:\\users\\lperd\\appdata\\local\\programs\\python\\python312\\lib\\site-packages (from matplotlib!=3.6.1,&gt;=3.4-&gt;seaborn) (4.53.1)\n",
       "</pre>\n"
      ],
      "text/plain": [
       "Requirement already satisfied: fonttools>=4.22.0 in c:\\users\\lperd\\appdata\\local\\programs\\python\\python312\\lib\\site-packages (from matplotlib!=3.6.1,>=3.4->seaborn) (4.53.1)\n"
      ]
     },
     "metadata": {},
     "output_type": "display_data"
    },
    {
     "data": {
      "text/html": [
       "<pre style=\"white-space:pre;overflow-x:auto;line-height:normal;font-family:Menlo,'DejaVu Sans Mono',consolas,'Courier New',monospace\">Requirement already satisfied: kiwisolver&gt;=1.3.1 in c:\\users\\lperd\\appdata\\local\\programs\\python\\python312\\lib\\site-packages (from matplotlib!=3.6.1,&gt;=3.4-&gt;seaborn) (1.4.5)\n",
       "</pre>\n"
      ],
      "text/plain": [
       "Requirement already satisfied: kiwisolver>=1.3.1 in c:\\users\\lperd\\appdata\\local\\programs\\python\\python312\\lib\\site-packages (from matplotlib!=3.6.1,>=3.4->seaborn) (1.4.5)\n"
      ]
     },
     "metadata": {},
     "output_type": "display_data"
    },
    {
     "data": {
      "text/html": [
       "<pre style=\"white-space:pre;overflow-x:auto;line-height:normal;font-family:Menlo,'DejaVu Sans Mono',consolas,'Courier New',monospace\">Requirement already satisfied: packaging&gt;=20.0 in c:\\users\\lperd\\appdata\\roaming\\python\\python312\\site-packages (from matplotlib!=3.6.1,&gt;=3.4-&gt;seaborn) (24.1)\n",
       "</pre>\n"
      ],
      "text/plain": [
       "Requirement already satisfied: packaging>=20.0 in c:\\users\\lperd\\appdata\\roaming\\python\\python312\\site-packages (from matplotlib!=3.6.1,>=3.4->seaborn) (24.1)\n"
      ]
     },
     "metadata": {},
     "output_type": "display_data"
    },
    {
     "data": {
      "text/html": [
       "<pre style=\"white-space:pre;overflow-x:auto;line-height:normal;font-family:Menlo,'DejaVu Sans Mono',consolas,'Courier New',monospace\">Requirement already satisfied: pillow&gt;=8 in c:\\users\\lperd\\appdata\\local\\programs\\python\\python312\\lib\\site-packages (from matplotlib!=3.6.1,&gt;=3.4-&gt;seaborn) (10.4.0)\n",
       "</pre>\n"
      ],
      "text/plain": [
       "Requirement already satisfied: pillow>=8 in c:\\users\\lperd\\appdata\\local\\programs\\python\\python312\\lib\\site-packages (from matplotlib!=3.6.1,>=3.4->seaborn) (10.4.0)\n"
      ]
     },
     "metadata": {},
     "output_type": "display_data"
    },
    {
     "data": {
      "text/html": [
       "<pre style=\"white-space:pre;overflow-x:auto;line-height:normal;font-family:Menlo,'DejaVu Sans Mono',consolas,'Courier New',monospace\">Requirement already satisfied: pyparsing&gt;=2.3.1 in c:\\users\\lperd\\appdata\\local\\programs\\python\\python312\\lib\\site-packages (from matplotlib!=3.6.1,&gt;=3.4-&gt;seaborn) (3.1.2)\n",
       "</pre>\n"
      ],
      "text/plain": [
       "Requirement already satisfied: pyparsing>=2.3.1 in c:\\users\\lperd\\appdata\\local\\programs\\python\\python312\\lib\\site-packages (from matplotlib!=3.6.1,>=3.4->seaborn) (3.1.2)\n"
      ]
     },
     "metadata": {},
     "output_type": "display_data"
    },
    {
     "data": {
      "text/html": [
       "<pre style=\"white-space:pre;overflow-x:auto;line-height:normal;font-family:Menlo,'DejaVu Sans Mono',consolas,'Courier New',monospace\">Requirement already satisfied: python-dateutil&gt;=2.7 in c:\\users\\lperd\\appdata\\roaming\\python\\python312\\site-packages (from matplotlib!=3.6.1,&gt;=3.4-&gt;seaborn) (2.9.0.post0)\n",
       "</pre>\n"
      ],
      "text/plain": [
       "Requirement already satisfied: python-dateutil>=2.7 in c:\\users\\lperd\\appdata\\roaming\\python\\python312\\site-packages (from matplotlib!=3.6.1,>=3.4->seaborn) (2.9.0.post0)\n"
      ]
     },
     "metadata": {},
     "output_type": "display_data"
    },
    {
     "data": {
      "text/html": [
       "<pre style=\"white-space:pre;overflow-x:auto;line-height:normal;font-family:Menlo,'DejaVu Sans Mono',consolas,'Courier New',monospace\">Requirement already satisfied: pytz&gt;=2020.1 in c:\\users\\lperd\\appdata\\local\\programs\\python\\python312\\lib\\site-packages (from pandas&gt;=1.2-&gt;seaborn) (2024.1)\n",
       "</pre>\n"
      ],
      "text/plain": [
       "Requirement already satisfied: pytz>=2020.1 in c:\\users\\lperd\\appdata\\local\\programs\\python\\python312\\lib\\site-packages (from pandas>=1.2->seaborn) (2024.1)\n"
      ]
     },
     "metadata": {},
     "output_type": "display_data"
    },
    {
     "data": {
      "text/html": [
       "<pre style=\"white-space:pre;overflow-x:auto;line-height:normal;font-family:Menlo,'DejaVu Sans Mono',consolas,'Courier New',monospace\">Requirement already satisfied: tzdata&gt;=2022.7 in c:\\users\\lperd\\appdata\\local\\programs\\python\\python312\\lib\\site-packages (from pandas&gt;=1.2-&gt;seaborn) (2024.1)\n",
       "</pre>\n"
      ],
      "text/plain": [
       "Requirement already satisfied: tzdata>=2022.7 in c:\\users\\lperd\\appdata\\local\\programs\\python\\python312\\lib\\site-packages (from pandas>=1.2->seaborn) (2024.1)\n"
      ]
     },
     "metadata": {},
     "output_type": "display_data"
    },
    {
     "data": {
      "text/html": [
       "<pre style=\"white-space:pre;overflow-x:auto;line-height:normal;font-family:Menlo,'DejaVu Sans Mono',consolas,'Courier New',monospace\">Requirement already satisfied: six&gt;=1.5 in c:\\users\\lperd\\appdata\\roaming\\python\\python312\\site-packages (from python-dateutil&gt;=2.7-&gt;matplotlib!=3.6.1,&gt;=3.4-&gt;seaborn) (1.16.0)\n",
       "</pre>\n"
      ],
      "text/plain": [
       "Requirement already satisfied: six>=1.5 in c:\\users\\lperd\\appdata\\roaming\\python\\python312\\site-packages (from python-dateutil>=2.7->matplotlib!=3.6.1,>=3.4->seaborn) (1.16.0)\n"
      ]
     },
     "metadata": {},
     "output_type": "display_data"
    },
    {
     "data": {
      "text/html": [
       "<pre style=\"white-space:pre;overflow-x:auto;line-height:normal;font-family:Menlo,'DejaVu Sans Mono',consolas,'Courier New',monospace\">\n",
       "<span style=\"font-weight: bold\">[</span><span style=\"color: #000080; text-decoration-color: #000080; background-color: #ffffff\">notice</span><span style=\"color: #000000; text-decoration-color: #000000; background-color: #ffffff; font-weight: bold\">]</span><span style=\"color: #000000; text-decoration-color: #000000; background-color: #ffffff\"> A new release of pip is available: </span><span style=\"color: #800000; text-decoration-color: #800000; background-color: #ffffff\">23.2.1</span><span style=\"color: #000000; text-decoration-color: #000000; background-color: #ffffff\"> -&gt; </span><span style=\"color: #008000; text-decoration-color: #008000; background-color: #ffffff\">24.2</span>\n",
       "<span style=\"font-weight: bold\">[</span><span style=\"color: #000080; text-decoration-color: #000080; background-color: #ffffff\">notice</span><span style=\"color: #000000; text-decoration-color: #000000; background-color: #ffffff; font-weight: bold\">]</span><span style=\"color: #000000; text-decoration-color: #000000; background-color: #ffffff\"> To update, run: </span><span style=\"color: #008000; text-decoration-color: #008000; background-color: #ffffff\">python.exe -m pip install --upgrade pip</span>\n",
       "</pre>\n"
      ],
      "text/plain": [
       "\n",
       "\u001b[1m[\u001b[0m\u001b[34;49mnotice\u001b[0m\u001b[1;39;49m]\u001b[0m\u001b[39;49m A new release of pip is available: \u001b[0m\u001b[31;49m23.2.1\u001b[0m\u001b[39;49m -> \u001b[0m\u001b[32;49m24.2\u001b[0m\n",
       "\u001b[1m[\u001b[0m\u001b[34;49mnotice\u001b[0m\u001b[1;39;49m]\u001b[0m\u001b[39;49m To update, run: \u001b[0m\u001b[32;49mpython.exe -m pip install --upgrade pip\u001b[0m\n"
      ]
     },
     "metadata": {},
     "output_type": "display_data"
    },
    {
     "data": {
      "text/plain": [
       "0"
      ]
     },
     "execution_count": 2,
     "metadata": {},
     "output_type": "execute_result"
    }
   ],
   "source": [
    "pip.main([\"install\",\"seaborn\"])"
   ]
  },
  {
   "cell_type": "code",
   "execution_count": 3,
   "id": "fa878881-66df-4d8e-b792-1d65470a8dc5",
   "metadata": {},
   "outputs": [],
   "source": [
    "import pandas as pd\n",
    "\n",
    "import matplotlib.pyplot as plt\n",
    "import seaborn as sns\n",
    "import statistics"
   ]
  },
  {
   "cell_type": "code",
   "execution_count": 4,
   "id": "934e72ec-a2c1-45ec-a6fc-a4acb80950d8",
   "metadata": {},
   "outputs": [],
   "source": [
    "# Pandas configuration for extending the number of columns and rows to show\n",
    "pd.set_option(\"display.max_columns\", None)\n",
    "pd.set_option(\"display.max_rows\", 100)"
   ]
  },
  {
   "cell_type": "markdown",
   "id": "8877beda-27b4-4c17-9d6b-6328db41ac08",
   "metadata": {},
   "source": [
    "### 1. Load the data"
   ]
  },
  {
   "cell_type": "code",
   "execution_count": 5,
   "id": "7840e83b-2f32-438f-a8d2-20ef259cf3ac",
   "metadata": {},
   "outputs": [],
   "source": [
    "# Loading the CSV file as dataframe\n",
    "listings_Santiago_df = pd.read_csv(\"./listings.csv.gz\")"
   ]
  },
  {
   "cell_type": "code",
   "execution_count": 6,
   "id": "7fdc067c-1aff-4859-b40e-183cc292dfcd",
   "metadata": {},
   "outputs": [
    {
     "data": {
      "text/plain": [
       "(13053, 75)"
      ]
     },
     "execution_count": 6,
     "metadata": {},
     "output_type": "execute_result"
    }
   ],
   "source": [
    "# Showing dataframe dimensions\n",
    "listings_Santiago_df.shape"
   ]
  },
  {
   "cell_type": "code",
   "execution_count": 7,
   "id": "666da89f-03fa-434d-a366-7fc2e399a731",
   "metadata": {},
   "outputs": [
    {
     "data": {
      "text/plain": [
       "id                                                int64\n",
       "listing_url                                      object\n",
       "scrape_id                                         int64\n",
       "last_scraped                                     object\n",
       "source                                           object\n",
       "name                                             object\n",
       "description                                      object\n",
       "neighborhood_overview                            object\n",
       "picture_url                                      object\n",
       "host_id                                           int64\n",
       "host_url                                         object\n",
       "host_name                                        object\n",
       "host_since                                       object\n",
       "host_location                                    object\n",
       "host_about                                       object\n",
       "host_response_time                               object\n",
       "host_response_rate                               object\n",
       "host_acceptance_rate                             object\n",
       "host_is_superhost                                object\n",
       "host_thumbnail_url                               object\n",
       "host_picture_url                                 object\n",
       "host_neighbourhood                               object\n",
       "host_listings_count                               int64\n",
       "host_total_listings_count                         int64\n",
       "host_verifications                               object\n",
       "host_has_profile_pic                             object\n",
       "host_identity_verified                           object\n",
       "neighbourhood                                    object\n",
       "neighbourhood_cleansed                           object\n",
       "neighbourhood_group_cleansed                    float64\n",
       "latitude                                        float64\n",
       "longitude                                       float64\n",
       "property_type                                    object\n",
       "room_type                                        object\n",
       "accommodates                                      int64\n",
       "bathrooms                                       float64\n",
       "bathrooms_text                                   object\n",
       "bedrooms                                        float64\n",
       "beds                                            float64\n",
       "amenities                                        object\n",
       "price                                            object\n",
       "minimum_nights                                    int64\n",
       "maximum_nights                                    int64\n",
       "minimum_minimum_nights                            int64\n",
       "maximum_minimum_nights                            int64\n",
       "minimum_maximum_nights                            int64\n",
       "maximum_maximum_nights                            int64\n",
       "minimum_nights_avg_ntm                          float64\n",
       "maximum_nights_avg_ntm                          float64\n",
       "calendar_updated                                float64\n",
       "has_availability                                 object\n",
       "availability_30                                   int64\n",
       "availability_60                                   int64\n",
       "availability_90                                   int64\n",
       "availability_365                                  int64\n",
       "calendar_last_scraped                            object\n",
       "number_of_reviews                                 int64\n",
       "number_of_reviews_ltm                             int64\n",
       "number_of_reviews_l30d                            int64\n",
       "first_review                                     object\n",
       "last_review                                      object\n",
       "review_scores_rating                            float64\n",
       "review_scores_accuracy                          float64\n",
       "review_scores_cleanliness                       float64\n",
       "review_scores_checkin                           float64\n",
       "review_scores_communication                     float64\n",
       "review_scores_location                          float64\n",
       "review_scores_value                             float64\n",
       "license                                          object\n",
       "instant_bookable                                 object\n",
       "calculated_host_listings_count                    int64\n",
       "calculated_host_listings_count_entire_homes       int64\n",
       "calculated_host_listings_count_private_rooms      int64\n",
       "calculated_host_listings_count_shared_rooms       int64\n",
       "reviews_per_month                               float64\n",
       "dtype: object"
      ]
     },
     "execution_count": 7,
     "metadata": {},
     "output_type": "execute_result"
    }
   ],
   "source": [
    "# Showing column types\n",
    "listings_Santiago_df.dtypes"
   ]
  },
  {
   "cell_type": "code",
   "execution_count": 8,
   "id": "bd41edc2-6d04-4d10-a77d-2ed0f962b657",
   "metadata": {},
   "outputs": [
    {
     "data": {
      "text/html": [
       "<div>\n",
       "<style scoped>\n",
       "    .dataframe tbody tr th:only-of-type {\n",
       "        vertical-align: middle;\n",
       "    }\n",
       "\n",
       "    .dataframe tbody tr th {\n",
       "        vertical-align: top;\n",
       "    }\n",
       "\n",
       "    .dataframe thead th {\n",
       "        text-align: right;\n",
       "    }\n",
       "</style>\n",
       "<table border=\"1\" class=\"dataframe\">\n",
       "  <thead>\n",
       "    <tr style=\"text-align: right;\">\n",
       "      <th></th>\n",
       "      <th>id</th>\n",
       "      <th>listing_url</th>\n",
       "      <th>scrape_id</th>\n",
       "      <th>last_scraped</th>\n",
       "      <th>source</th>\n",
       "      <th>name</th>\n",
       "      <th>description</th>\n",
       "      <th>neighborhood_overview</th>\n",
       "      <th>picture_url</th>\n",
       "      <th>host_id</th>\n",
       "      <th>host_url</th>\n",
       "      <th>host_name</th>\n",
       "      <th>host_since</th>\n",
       "      <th>host_location</th>\n",
       "      <th>host_about</th>\n",
       "      <th>host_response_time</th>\n",
       "      <th>host_response_rate</th>\n",
       "      <th>host_acceptance_rate</th>\n",
       "      <th>host_is_superhost</th>\n",
       "      <th>host_thumbnail_url</th>\n",
       "      <th>host_picture_url</th>\n",
       "      <th>host_neighbourhood</th>\n",
       "      <th>host_listings_count</th>\n",
       "      <th>host_total_listings_count</th>\n",
       "      <th>host_verifications</th>\n",
       "      <th>host_has_profile_pic</th>\n",
       "      <th>host_identity_verified</th>\n",
       "      <th>neighbourhood</th>\n",
       "      <th>neighbourhood_cleansed</th>\n",
       "      <th>neighbourhood_group_cleansed</th>\n",
       "      <th>latitude</th>\n",
       "      <th>longitude</th>\n",
       "      <th>property_type</th>\n",
       "      <th>room_type</th>\n",
       "      <th>accommodates</th>\n",
       "      <th>bathrooms</th>\n",
       "      <th>bathrooms_text</th>\n",
       "      <th>bedrooms</th>\n",
       "      <th>beds</th>\n",
       "      <th>amenities</th>\n",
       "      <th>price</th>\n",
       "      <th>minimum_nights</th>\n",
       "      <th>maximum_nights</th>\n",
       "      <th>minimum_minimum_nights</th>\n",
       "      <th>maximum_minimum_nights</th>\n",
       "      <th>minimum_maximum_nights</th>\n",
       "      <th>maximum_maximum_nights</th>\n",
       "      <th>minimum_nights_avg_ntm</th>\n",
       "      <th>maximum_nights_avg_ntm</th>\n",
       "      <th>calendar_updated</th>\n",
       "      <th>has_availability</th>\n",
       "      <th>availability_30</th>\n",
       "      <th>availability_60</th>\n",
       "      <th>availability_90</th>\n",
       "      <th>availability_365</th>\n",
       "      <th>calendar_last_scraped</th>\n",
       "      <th>number_of_reviews</th>\n",
       "      <th>number_of_reviews_ltm</th>\n",
       "      <th>number_of_reviews_l30d</th>\n",
       "      <th>first_review</th>\n",
       "      <th>last_review</th>\n",
       "      <th>review_scores_rating</th>\n",
       "      <th>review_scores_accuracy</th>\n",
       "      <th>review_scores_cleanliness</th>\n",
       "      <th>review_scores_checkin</th>\n",
       "      <th>review_scores_communication</th>\n",
       "      <th>review_scores_location</th>\n",
       "      <th>review_scores_value</th>\n",
       "      <th>license</th>\n",
       "      <th>instant_bookable</th>\n",
       "      <th>calculated_host_listings_count</th>\n",
       "      <th>calculated_host_listings_count_entire_homes</th>\n",
       "      <th>calculated_host_listings_count_private_rooms</th>\n",
       "      <th>calculated_host_listings_count_shared_rooms</th>\n",
       "      <th>reviews_per_month</th>\n",
       "    </tr>\n",
       "  </thead>\n",
       "  <tbody>\n",
       "    <tr>\n",
       "      <th>7220</th>\n",
       "      <td>802924084202450186</td>\n",
       "      <td>https://www.airbnb.com/rooms/802924084202450186</td>\n",
       "      <td>20240629050059</td>\n",
       "      <td>2024-06-29</td>\n",
       "      <td>city scrape</td>\n",
       "      <td>Taller Habitacion para crear.</td>\n",
       "      <td>Wake up, relax, work, disconnect in  a private...</td>\n",
       "      <td>NaN</td>\n",
       "      <td>https://a0.muscache.com/pictures/miso/Hosting-...</td>\n",
       "      <td>151682116</td>\n",
       "      <td>https://www.airbnb.com/users/show/151682116</td>\n",
       "      <td>G.Paola</td>\n",
       "      <td>2017-09-22</td>\n",
       "      <td>NaN</td>\n",
       "      <td>NaN</td>\n",
       "      <td>NaN</td>\n",
       "      <td>NaN</td>\n",
       "      <td>NaN</td>\n",
       "      <td>f</td>\n",
       "      <td>https://a0.muscache.com/im/pictures/user/23351...</td>\n",
       "      <td>https://a0.muscache.com/im/pictures/user/23351...</td>\n",
       "      <td>NaN</td>\n",
       "      <td>1</td>\n",
       "      <td>1</td>\n",
       "      <td>['email', 'phone']</td>\n",
       "      <td>t</td>\n",
       "      <td>t</td>\n",
       "      <td>NaN</td>\n",
       "      <td>Las Condes</td>\n",
       "      <td>NaN</td>\n",
       "      <td>-33.413310</td>\n",
       "      <td>-70.551470</td>\n",
       "      <td>Private room in casa particular</td>\n",
       "      <td>Private room</td>\n",
       "      <td>1</td>\n",
       "      <td>1.0</td>\n",
       "      <td>1 private bath</td>\n",
       "      <td>1.0</td>\n",
       "      <td>1.0</td>\n",
       "      <td>[\"Pool\", \"Smoke alarm\", \"Lock on bedroom door\"...</td>\n",
       "      <td>$68,360.00</td>\n",
       "      <td>1</td>\n",
       "      <td>3</td>\n",
       "      <td>1</td>\n",
       "      <td>1</td>\n",
       "      <td>3</td>\n",
       "      <td>3</td>\n",
       "      <td>1.0</td>\n",
       "      <td>3.0</td>\n",
       "      <td>NaN</td>\n",
       "      <td>t</td>\n",
       "      <td>30</td>\n",
       "      <td>60</td>\n",
       "      <td>90</td>\n",
       "      <td>90</td>\n",
       "      <td>2024-06-29</td>\n",
       "      <td>0</td>\n",
       "      <td>0</td>\n",
       "      <td>0</td>\n",
       "      <td>NaN</td>\n",
       "      <td>NaN</td>\n",
       "      <td>NaN</td>\n",
       "      <td>NaN</td>\n",
       "      <td>NaN</td>\n",
       "      <td>NaN</td>\n",
       "      <td>NaN</td>\n",
       "      <td>NaN</td>\n",
       "      <td>NaN</td>\n",
       "      <td>NaN</td>\n",
       "      <td>f</td>\n",
       "      <td>1</td>\n",
       "      <td>0</td>\n",
       "      <td>1</td>\n",
       "      <td>0</td>\n",
       "      <td>NaN</td>\n",
       "    </tr>\n",
       "    <tr>\n",
       "      <th>9260</th>\n",
       "      <td>976117544929955075</td>\n",
       "      <td>https://www.airbnb.com/rooms/976117544929955075</td>\n",
       "      <td>20240629050059</td>\n",
       "      <td>2024-06-29</td>\n",
       "      <td>city scrape</td>\n",
       "      <td>Cómodo departamento céntrico P. 18-8</td>\n",
       "      <td>Enjoy the simplicity of this quiet, central home.</td>\n",
       "      <td>NaN</td>\n",
       "      <td>https://a0.muscache.com/pictures/hosting/Hosti...</td>\n",
       "      <td>534412346</td>\n",
       "      <td>https://www.airbnb.com/users/show/534412346</td>\n",
       "      <td>Aida</td>\n",
       "      <td>2023-08-28</td>\n",
       "      <td>Santiago, Chile</td>\n",
       "      <td>NaN</td>\n",
       "      <td>within an hour</td>\n",
       "      <td>100%</td>\n",
       "      <td>92%</td>\n",
       "      <td>f</td>\n",
       "      <td>https://a0.muscache.com/im/pictures/user/User-...</td>\n",
       "      <td>https://a0.muscache.com/im/pictures/user/User-...</td>\n",
       "      <td>NaN</td>\n",
       "      <td>5</td>\n",
       "      <td>6</td>\n",
       "      <td>['phone']</td>\n",
       "      <td>t</td>\n",
       "      <td>t</td>\n",
       "      <td>NaN</td>\n",
       "      <td>Santiago</td>\n",
       "      <td>NaN</td>\n",
       "      <td>-33.442037</td>\n",
       "      <td>-70.660227</td>\n",
       "      <td>Entire rental unit</td>\n",
       "      <td>Entire home/apt</td>\n",
       "      <td>2</td>\n",
       "      <td>1.0</td>\n",
       "      <td>1 bath</td>\n",
       "      <td>1.0</td>\n",
       "      <td>1.0</td>\n",
       "      <td>[]</td>\n",
       "      <td>$37,000.00</td>\n",
       "      <td>2</td>\n",
       "      <td>365</td>\n",
       "      <td>1</td>\n",
       "      <td>2</td>\n",
       "      <td>365</td>\n",
       "      <td>365</td>\n",
       "      <td>1.4</td>\n",
       "      <td>365.0</td>\n",
       "      <td>NaN</td>\n",
       "      <td>t</td>\n",
       "      <td>29</td>\n",
       "      <td>59</td>\n",
       "      <td>89</td>\n",
       "      <td>269</td>\n",
       "      <td>2024-06-29</td>\n",
       "      <td>1</td>\n",
       "      <td>1</td>\n",
       "      <td>0</td>\n",
       "      <td>2023-11-12</td>\n",
       "      <td>2023-11-12</td>\n",
       "      <td>5.00</td>\n",
       "      <td>5.00</td>\n",
       "      <td>5.00</td>\n",
       "      <td>5.00</td>\n",
       "      <td>5.00</td>\n",
       "      <td>5.00</td>\n",
       "      <td>5.00</td>\n",
       "      <td>NaN</td>\n",
       "      <td>t</td>\n",
       "      <td>5</td>\n",
       "      <td>5</td>\n",
       "      <td>0</td>\n",
       "      <td>0</td>\n",
       "      <td>0.13</td>\n",
       "    </tr>\n",
       "    <tr>\n",
       "      <th>8957</th>\n",
       "      <td>953496670525180317</td>\n",
       "      <td>https://www.airbnb.com/rooms/953496670525180317</td>\n",
       "      <td>20240629050059</td>\n",
       "      <td>2024-06-29</td>\n",
       "      <td>city scrape</td>\n",
       "      <td>Acogedor y céntrico estudio 2</td>\n",
       "      <td>Enjoy the simplicity of this quiet, central ho...</td>\n",
       "      <td>NaN</td>\n",
       "      <td>https://a0.muscache.com/pictures/miso/Hosting-...</td>\n",
       "      <td>117754440</td>\n",
       "      <td>https://www.airbnb.com/users/show/117754440</td>\n",
       "      <td>Karla</td>\n",
       "      <td>2017-02-23</td>\n",
       "      <td>Santiago, Chile</td>\n",
       "      <td>Soy ingeniera, a veces karateca, amo a los ani...</td>\n",
       "      <td>within an hour</td>\n",
       "      <td>100%</td>\n",
       "      <td>99%</td>\n",
       "      <td>f</td>\n",
       "      <td>https://a0.muscache.com/im/pictures/user/User-...</td>\n",
       "      <td>https://a0.muscache.com/im/pictures/user/User-...</td>\n",
       "      <td>NaN</td>\n",
       "      <td>6</td>\n",
       "      <td>8</td>\n",
       "      <td>['email', 'phone']</td>\n",
       "      <td>t</td>\n",
       "      <td>t</td>\n",
       "      <td>NaN</td>\n",
       "      <td>Santiago</td>\n",
       "      <td>NaN</td>\n",
       "      <td>-33.456440</td>\n",
       "      <td>-70.630890</td>\n",
       "      <td>Entire rental unit</td>\n",
       "      <td>Entire home/apt</td>\n",
       "      <td>2</td>\n",
       "      <td>1.0</td>\n",
       "      <td>1 bath</td>\n",
       "      <td>1.0</td>\n",
       "      <td>1.0</td>\n",
       "      <td>[\"Extra pillows and blankets\", \"Laundromat nea...</td>\n",
       "      <td>$26,286.00</td>\n",
       "      <td>2</td>\n",
       "      <td>365</td>\n",
       "      <td>2</td>\n",
       "      <td>2</td>\n",
       "      <td>365</td>\n",
       "      <td>365</td>\n",
       "      <td>2.0</td>\n",
       "      <td>365.0</td>\n",
       "      <td>NaN</td>\n",
       "      <td>t</td>\n",
       "      <td>21</td>\n",
       "      <td>44</td>\n",
       "      <td>69</td>\n",
       "      <td>249</td>\n",
       "      <td>2024-06-29</td>\n",
       "      <td>25</td>\n",
       "      <td>25</td>\n",
       "      <td>4</td>\n",
       "      <td>2023-08-16</td>\n",
       "      <td>2024-06-25</td>\n",
       "      <td>4.76</td>\n",
       "      <td>4.96</td>\n",
       "      <td>4.64</td>\n",
       "      <td>4.88</td>\n",
       "      <td>4.84</td>\n",
       "      <td>4.52</td>\n",
       "      <td>4.68</td>\n",
       "      <td>NaN</td>\n",
       "      <td>f</td>\n",
       "      <td>6</td>\n",
       "      <td>6</td>\n",
       "      <td>0</td>\n",
       "      <td>0</td>\n",
       "      <td>2.35</td>\n",
       "    </tr>\n",
       "    <tr>\n",
       "      <th>7941</th>\n",
       "      <td>868725748534340603</td>\n",
       "      <td>https://www.airbnb.com/rooms/868725748534340603</td>\n",
       "      <td>20240629050059</td>\n",
       "      <td>2024-06-29</td>\n",
       "      <td>city scrape</td>\n",
       "      <td>tranquilo, seguro, cercano Metro</td>\n",
       "      <td>Relax with the whole family at this place to s...</td>\n",
       "      <td>A building steps from the Escuela Camino Agríc...</td>\n",
       "      <td>https://a0.muscache.com/pictures/miso/Hosting-...</td>\n",
       "      <td>440361141</td>\n",
       "      <td>https://www.airbnb.com/users/show/440361141</td>\n",
       "      <td>Viviana</td>\n",
       "      <td>2022-01-13</td>\n",
       "      <td>NaN</td>\n",
       "      <td>Hola. Soy Vivi y tengo mi depto en arriendo pa...</td>\n",
       "      <td>within an hour</td>\n",
       "      <td>100%</td>\n",
       "      <td>98%</td>\n",
       "      <td>t</td>\n",
       "      <td>https://a0.muscache.com/im/pictures/user/User-...</td>\n",
       "      <td>https://a0.muscache.com/im/pictures/user/User-...</td>\n",
       "      <td>NaN</td>\n",
       "      <td>1</td>\n",
       "      <td>1</td>\n",
       "      <td>['phone']</td>\n",
       "      <td>t</td>\n",
       "      <td>t</td>\n",
       "      <td>Macul, Región Metropolitana, Chile</td>\n",
       "      <td>Macul</td>\n",
       "      <td>NaN</td>\n",
       "      <td>-33.491021</td>\n",
       "      <td>-70.616059</td>\n",
       "      <td>Entire rental unit</td>\n",
       "      <td>Entire home/apt</td>\n",
       "      <td>4</td>\n",
       "      <td>2.0</td>\n",
       "      <td>2 baths</td>\n",
       "      <td>2.0</td>\n",
       "      <td>3.0</td>\n",
       "      <td>[\"Hot water kettle\", \"Dining table\", \"Freezer\"...</td>\n",
       "      <td>$42,857.00</td>\n",
       "      <td>3</td>\n",
       "      <td>365</td>\n",
       "      <td>3</td>\n",
       "      <td>3</td>\n",
       "      <td>1125</td>\n",
       "      <td>1125</td>\n",
       "      <td>3.0</td>\n",
       "      <td>1125.0</td>\n",
       "      <td>NaN</td>\n",
       "      <td>t</td>\n",
       "      <td>10</td>\n",
       "      <td>31</td>\n",
       "      <td>55</td>\n",
       "      <td>330</td>\n",
       "      <td>2024-06-29</td>\n",
       "      <td>28</td>\n",
       "      <td>26</td>\n",
       "      <td>3</td>\n",
       "      <td>2023-05-21</td>\n",
       "      <td>2024-06-21</td>\n",
       "      <td>4.79</td>\n",
       "      <td>4.82</td>\n",
       "      <td>4.71</td>\n",
       "      <td>4.82</td>\n",
       "      <td>4.86</td>\n",
       "      <td>4.89</td>\n",
       "      <td>4.82</td>\n",
       "      <td>NaN</td>\n",
       "      <td>f</td>\n",
       "      <td>1</td>\n",
       "      <td>1</td>\n",
       "      <td>0</td>\n",
       "      <td>0</td>\n",
       "      <td>2.07</td>\n",
       "    </tr>\n",
       "    <tr>\n",
       "      <th>1521</th>\n",
       "      <td>18732215</td>\n",
       "      <td>https://www.airbnb.com/rooms/18732215</td>\n",
       "      <td>20240629050059</td>\n",
       "      <td>2024-06-29</td>\n",
       "      <td>previous scrape</td>\n",
       "      <td>SURF ROOM Hab femenina</td>\n",
       "      <td>Shared Female ROOM with 6 beds, spacious mui a...</td>\n",
       "      <td>Yogi hostels is located in Providencia one of ...</td>\n",
       "      <td>https://a0.muscache.com/pictures/miso/Hosting-...</td>\n",
       "      <td>128762998</td>\n",
       "      <td>https://www.airbnb.com/users/show/128762998</td>\n",
       "      <td>Yogi</td>\n",
       "      <td>2017-05-03</td>\n",
       "      <td>Santiago, Chile</td>\n",
       "      <td>Somos un grupo joven, dinámico y buena onda. E...</td>\n",
       "      <td>within an hour</td>\n",
       "      <td>100%</td>\n",
       "      <td>71%</td>\n",
       "      <td>f</td>\n",
       "      <td>https://a0.muscache.com/im/pictures/user/29afc...</td>\n",
       "      <td>https://a0.muscache.com/im/pictures/user/29afc...</td>\n",
       "      <td>NaN</td>\n",
       "      <td>8</td>\n",
       "      <td>9</td>\n",
       "      <td>['email', 'phone', 'work_email']</td>\n",
       "      <td>t</td>\n",
       "      <td>f</td>\n",
       "      <td>Providencia, Región Metropolitana, Chile</td>\n",
       "      <td>Providencia</td>\n",
       "      <td>NaN</td>\n",
       "      <td>-33.425530</td>\n",
       "      <td>-70.603470</td>\n",
       "      <td>Shared room in houseboat</td>\n",
       "      <td>Shared room</td>\n",
       "      <td>6</td>\n",
       "      <td>NaN</td>\n",
       "      <td>3.5 shared baths</td>\n",
       "      <td>NaN</td>\n",
       "      <td>NaN</td>\n",
       "      <td>[\"Free parking on premises\", \"Extra pillows an...</td>\n",
       "      <td>NaN</td>\n",
       "      <td>1</td>\n",
       "      <td>1125</td>\n",
       "      <td>1</td>\n",
       "      <td>1</td>\n",
       "      <td>1125</td>\n",
       "      <td>1125</td>\n",
       "      <td>1.0</td>\n",
       "      <td>1125.0</td>\n",
       "      <td>NaN</td>\n",
       "      <td>f</td>\n",
       "      <td>0</td>\n",
       "      <td>0</td>\n",
       "      <td>0</td>\n",
       "      <td>0</td>\n",
       "      <td>2024-06-29</td>\n",
       "      <td>19</td>\n",
       "      <td>2</td>\n",
       "      <td>0</td>\n",
       "      <td>2017-05-19</td>\n",
       "      <td>2024-04-21</td>\n",
       "      <td>4.68</td>\n",
       "      <td>4.58</td>\n",
       "      <td>4.79</td>\n",
       "      <td>4.83</td>\n",
       "      <td>4.89</td>\n",
       "      <td>4.94</td>\n",
       "      <td>4.67</td>\n",
       "      <td>NaN</td>\n",
       "      <td>f</td>\n",
       "      <td>8</td>\n",
       "      <td>1</td>\n",
       "      <td>5</td>\n",
       "      <td>2</td>\n",
       "      <td>0.22</td>\n",
       "    </tr>\n",
       "  </tbody>\n",
       "</table>\n",
       "</div>"
      ],
      "text/plain": [
       "                      id                                      listing_url  \\\n",
       "7220  802924084202450186  https://www.airbnb.com/rooms/802924084202450186   \n",
       "9260  976117544929955075  https://www.airbnb.com/rooms/976117544929955075   \n",
       "8957  953496670525180317  https://www.airbnb.com/rooms/953496670525180317   \n",
       "7941  868725748534340603  https://www.airbnb.com/rooms/868725748534340603   \n",
       "1521            18732215            https://www.airbnb.com/rooms/18732215   \n",
       "\n",
       "           scrape_id last_scraped           source  \\\n",
       "7220  20240629050059   2024-06-29      city scrape   \n",
       "9260  20240629050059   2024-06-29      city scrape   \n",
       "8957  20240629050059   2024-06-29      city scrape   \n",
       "7941  20240629050059   2024-06-29      city scrape   \n",
       "1521  20240629050059   2024-06-29  previous scrape   \n",
       "\n",
       "                                      name  \\\n",
       "7220         Taller Habitacion para crear.   \n",
       "9260  Cómodo departamento céntrico P. 18-8   \n",
       "8957         Acogedor y céntrico estudio 2   \n",
       "7941      tranquilo, seguro, cercano Metro   \n",
       "1521                SURF ROOM Hab femenina   \n",
       "\n",
       "                                            description  \\\n",
       "7220  Wake up, relax, work, disconnect in  a private...   \n",
       "9260  Enjoy the simplicity of this quiet, central home.   \n",
       "8957  Enjoy the simplicity of this quiet, central ho...   \n",
       "7941  Relax with the whole family at this place to s...   \n",
       "1521  Shared Female ROOM with 6 beds, spacious mui a...   \n",
       "\n",
       "                                  neighborhood_overview  \\\n",
       "7220                                                NaN   \n",
       "9260                                                NaN   \n",
       "8957                                                NaN   \n",
       "7941  A building steps from the Escuela Camino Agríc...   \n",
       "1521  Yogi hostels is located in Providencia one of ...   \n",
       "\n",
       "                                            picture_url    host_id  \\\n",
       "7220  https://a0.muscache.com/pictures/miso/Hosting-...  151682116   \n",
       "9260  https://a0.muscache.com/pictures/hosting/Hosti...  534412346   \n",
       "8957  https://a0.muscache.com/pictures/miso/Hosting-...  117754440   \n",
       "7941  https://a0.muscache.com/pictures/miso/Hosting-...  440361141   \n",
       "1521  https://a0.muscache.com/pictures/miso/Hosting-...  128762998   \n",
       "\n",
       "                                         host_url host_name  host_since  \\\n",
       "7220  https://www.airbnb.com/users/show/151682116   G.Paola  2017-09-22   \n",
       "9260  https://www.airbnb.com/users/show/534412346      Aida  2023-08-28   \n",
       "8957  https://www.airbnb.com/users/show/117754440     Karla  2017-02-23   \n",
       "7941  https://www.airbnb.com/users/show/440361141   Viviana  2022-01-13   \n",
       "1521  https://www.airbnb.com/users/show/128762998      Yogi  2017-05-03   \n",
       "\n",
       "        host_location                                         host_about  \\\n",
       "7220              NaN                                                NaN   \n",
       "9260  Santiago, Chile                                                NaN   \n",
       "8957  Santiago, Chile  Soy ingeniera, a veces karateca, amo a los ani...   \n",
       "7941              NaN  Hola. Soy Vivi y tengo mi depto en arriendo pa...   \n",
       "1521  Santiago, Chile  Somos un grupo joven, dinámico y buena onda. E...   \n",
       "\n",
       "     host_response_time host_response_rate host_acceptance_rate  \\\n",
       "7220                NaN                NaN                  NaN   \n",
       "9260     within an hour               100%                  92%   \n",
       "8957     within an hour               100%                  99%   \n",
       "7941     within an hour               100%                  98%   \n",
       "1521     within an hour               100%                  71%   \n",
       "\n",
       "     host_is_superhost                                 host_thumbnail_url  \\\n",
       "7220                 f  https://a0.muscache.com/im/pictures/user/23351...   \n",
       "9260                 f  https://a0.muscache.com/im/pictures/user/User-...   \n",
       "8957                 f  https://a0.muscache.com/im/pictures/user/User-...   \n",
       "7941                 t  https://a0.muscache.com/im/pictures/user/User-...   \n",
       "1521                 f  https://a0.muscache.com/im/pictures/user/29afc...   \n",
       "\n",
       "                                       host_picture_url host_neighbourhood  \\\n",
       "7220  https://a0.muscache.com/im/pictures/user/23351...                NaN   \n",
       "9260  https://a0.muscache.com/im/pictures/user/User-...                NaN   \n",
       "8957  https://a0.muscache.com/im/pictures/user/User-...                NaN   \n",
       "7941  https://a0.muscache.com/im/pictures/user/User-...                NaN   \n",
       "1521  https://a0.muscache.com/im/pictures/user/29afc...                NaN   \n",
       "\n",
       "      host_listings_count  host_total_listings_count  \\\n",
       "7220                    1                          1   \n",
       "9260                    5                          6   \n",
       "8957                    6                          8   \n",
       "7941                    1                          1   \n",
       "1521                    8                          9   \n",
       "\n",
       "                    host_verifications host_has_profile_pic  \\\n",
       "7220                ['email', 'phone']                    t   \n",
       "9260                         ['phone']                    t   \n",
       "8957                ['email', 'phone']                    t   \n",
       "7941                         ['phone']                    t   \n",
       "1521  ['email', 'phone', 'work_email']                    t   \n",
       "\n",
       "     host_identity_verified                             neighbourhood  \\\n",
       "7220                      t                                       NaN   \n",
       "9260                      t                                       NaN   \n",
       "8957                      t                                       NaN   \n",
       "7941                      t        Macul, Región Metropolitana, Chile   \n",
       "1521                      f  Providencia, Región Metropolitana, Chile   \n",
       "\n",
       "     neighbourhood_cleansed  neighbourhood_group_cleansed   latitude  \\\n",
       "7220             Las Condes                           NaN -33.413310   \n",
       "9260               Santiago                           NaN -33.442037   \n",
       "8957               Santiago                           NaN -33.456440   \n",
       "7941                  Macul                           NaN -33.491021   \n",
       "1521            Providencia                           NaN -33.425530   \n",
       "\n",
       "      longitude                    property_type        room_type  \\\n",
       "7220 -70.551470  Private room in casa particular     Private room   \n",
       "9260 -70.660227               Entire rental unit  Entire home/apt   \n",
       "8957 -70.630890               Entire rental unit  Entire home/apt   \n",
       "7941 -70.616059               Entire rental unit  Entire home/apt   \n",
       "1521 -70.603470         Shared room in houseboat      Shared room   \n",
       "\n",
       "      accommodates  bathrooms    bathrooms_text  bedrooms  beds  \\\n",
       "7220             1        1.0    1 private bath       1.0   1.0   \n",
       "9260             2        1.0            1 bath       1.0   1.0   \n",
       "8957             2        1.0            1 bath       1.0   1.0   \n",
       "7941             4        2.0           2 baths       2.0   3.0   \n",
       "1521             6        NaN  3.5 shared baths       NaN   NaN   \n",
       "\n",
       "                                              amenities       price  \\\n",
       "7220  [\"Pool\", \"Smoke alarm\", \"Lock on bedroom door\"...  $68,360.00   \n",
       "9260                                                 []  $37,000.00   \n",
       "8957  [\"Extra pillows and blankets\", \"Laundromat nea...  $26,286.00   \n",
       "7941  [\"Hot water kettle\", \"Dining table\", \"Freezer\"...  $42,857.00   \n",
       "1521  [\"Free parking on premises\", \"Extra pillows an...         NaN   \n",
       "\n",
       "      minimum_nights  maximum_nights  minimum_minimum_nights  \\\n",
       "7220               1               3                       1   \n",
       "9260               2             365                       1   \n",
       "8957               2             365                       2   \n",
       "7941               3             365                       3   \n",
       "1521               1            1125                       1   \n",
       "\n",
       "      maximum_minimum_nights  minimum_maximum_nights  maximum_maximum_nights  \\\n",
       "7220                       1                       3                       3   \n",
       "9260                       2                     365                     365   \n",
       "8957                       2                     365                     365   \n",
       "7941                       3                    1125                    1125   \n",
       "1521                       1                    1125                    1125   \n",
       "\n",
       "      minimum_nights_avg_ntm  maximum_nights_avg_ntm  calendar_updated  \\\n",
       "7220                     1.0                     3.0               NaN   \n",
       "9260                     1.4                   365.0               NaN   \n",
       "8957                     2.0                   365.0               NaN   \n",
       "7941                     3.0                  1125.0               NaN   \n",
       "1521                     1.0                  1125.0               NaN   \n",
       "\n",
       "     has_availability  availability_30  availability_60  availability_90  \\\n",
       "7220                t               30               60               90   \n",
       "9260                t               29               59               89   \n",
       "8957                t               21               44               69   \n",
       "7941                t               10               31               55   \n",
       "1521                f                0                0                0   \n",
       "\n",
       "      availability_365 calendar_last_scraped  number_of_reviews  \\\n",
       "7220                90            2024-06-29                  0   \n",
       "9260               269            2024-06-29                  1   \n",
       "8957               249            2024-06-29                 25   \n",
       "7941               330            2024-06-29                 28   \n",
       "1521                 0            2024-06-29                 19   \n",
       "\n",
       "      number_of_reviews_ltm  number_of_reviews_l30d first_review last_review  \\\n",
       "7220                      0                       0          NaN         NaN   \n",
       "9260                      1                       0   2023-11-12  2023-11-12   \n",
       "8957                     25                       4   2023-08-16  2024-06-25   \n",
       "7941                     26                       3   2023-05-21  2024-06-21   \n",
       "1521                      2                       0   2017-05-19  2024-04-21   \n",
       "\n",
       "      review_scores_rating  review_scores_accuracy  review_scores_cleanliness  \\\n",
       "7220                   NaN                     NaN                        NaN   \n",
       "9260                  5.00                    5.00                       5.00   \n",
       "8957                  4.76                    4.96                       4.64   \n",
       "7941                  4.79                    4.82                       4.71   \n",
       "1521                  4.68                    4.58                       4.79   \n",
       "\n",
       "      review_scores_checkin  review_scores_communication  \\\n",
       "7220                    NaN                          NaN   \n",
       "9260                   5.00                         5.00   \n",
       "8957                   4.88                         4.84   \n",
       "7941                   4.82                         4.86   \n",
       "1521                   4.83                         4.89   \n",
       "\n",
       "      review_scores_location  review_scores_value license instant_bookable  \\\n",
       "7220                     NaN                  NaN     NaN                f   \n",
       "9260                    5.00                 5.00     NaN                t   \n",
       "8957                    4.52                 4.68     NaN                f   \n",
       "7941                    4.89                 4.82     NaN                f   \n",
       "1521                    4.94                 4.67     NaN                f   \n",
       "\n",
       "      calculated_host_listings_count  \\\n",
       "7220                               1   \n",
       "9260                               5   \n",
       "8957                               6   \n",
       "7941                               1   \n",
       "1521                               8   \n",
       "\n",
       "      calculated_host_listings_count_entire_homes  \\\n",
       "7220                                            0   \n",
       "9260                                            5   \n",
       "8957                                            6   \n",
       "7941                                            1   \n",
       "1521                                            1   \n",
       "\n",
       "      calculated_host_listings_count_private_rooms  \\\n",
       "7220                                             1   \n",
       "9260                                             0   \n",
       "8957                                             0   \n",
       "7941                                             0   \n",
       "1521                                             5   \n",
       "\n",
       "      calculated_host_listings_count_shared_rooms  reviews_per_month  \n",
       "7220                                            0                NaN  \n",
       "9260                                            0               0.13  \n",
       "8957                                            0               2.35  \n",
       "7941                                            0               2.07  \n",
       "1521                                            2               0.22  "
      ]
     },
     "execution_count": 8,
     "metadata": {},
     "output_type": "execute_result"
    }
   ],
   "source": [
    "listings_Santiago_df.sample(5) # Showing a sample of n rows"
   ]
  },
  {
   "cell_type": "markdown",
   "id": "8a48a9a6-7266-472f-be40-c820e199a029",
   "metadata": {},
   "source": [
    "### 2. Univariate analysis\n",
    "\n",
    "The five most relevant attributes for real estate investment analysis are: \n",
    "\n",
    "1. Price\n",
    "2. Location\n",
    "3. Property type\n",
    "4. User Rating\n",
    "5. Amenities"
   ]
  },
  {
   "cell_type": "code",
   "execution_count": 9,
   "id": "15a2aee6-4720-477f-96b5-da43cc930db5",
   "metadata": {},
   "outputs": [
    {
     "data": {
      "text/plain": [
       "13053"
      ]
     },
     "execution_count": 9,
     "metadata": {},
     "output_type": "execute_result"
    }
   ],
   "source": [
    "# Showing the number of unique values of listing ids\n",
    "# This can be helpful to diagnose duplicity\n",
    "listings_Santiago_df[\"id\"].nunique()"
   ]
  },
  {
   "cell_type": "markdown",
   "id": "d83688cb",
   "metadata": {},
   "source": [
    "#### 2.1 Price"
   ]
  },
  {
   "cell_type": "code",
   "execution_count": 10,
   "id": "a7ce14e6-d333-4740-9fb0-ffdff904c06c",
   "metadata": {},
   "outputs": [],
   "source": [
    "# We need to transform the price attribute from object to float\n",
    "listings_Santiago_df[\"price_float\"] = listings_Santiago_df[\"price\"].str.replace(\"[$,]\", \"\", regex=True).astype(float)"
   ]
  },
  {
   "cell_type": "code",
   "execution_count": 11,
   "id": "220993f7",
   "metadata": {},
   "outputs": [
    {
     "name": "stdout",
     "output_type": "stream",
     "text": [
      "float64\n"
     ]
    }
   ],
   "source": [
    "print(listings_Santiago_df[\"price_float\"].dtype)"
   ]
  },
  {
   "cell_type": "code",
   "execution_count": 12,
   "id": "b0a5d626",
   "metadata": {},
   "outputs": [
    {
     "data": {
      "text/html": [
       "<div>\n",
       "<style scoped>\n",
       "    .dataframe tbody tr th:only-of-type {\n",
       "        vertical-align: middle;\n",
       "    }\n",
       "\n",
       "    .dataframe tbody tr th {\n",
       "        vertical-align: top;\n",
       "    }\n",
       "\n",
       "    .dataframe thead th {\n",
       "        text-align: right;\n",
       "    }\n",
       "</style>\n",
       "<table border=\"1\" class=\"dataframe\">\n",
       "  <thead>\n",
       "    <tr style=\"text-align: right;\">\n",
       "      <th></th>\n",
       "      <th>id</th>\n",
       "      <th>listing_url</th>\n",
       "      <th>scrape_id</th>\n",
       "      <th>last_scraped</th>\n",
       "      <th>source</th>\n",
       "      <th>name</th>\n",
       "      <th>description</th>\n",
       "      <th>neighborhood_overview</th>\n",
       "      <th>picture_url</th>\n",
       "      <th>host_id</th>\n",
       "      <th>host_url</th>\n",
       "      <th>host_name</th>\n",
       "      <th>host_since</th>\n",
       "      <th>host_location</th>\n",
       "      <th>host_about</th>\n",
       "      <th>host_response_time</th>\n",
       "      <th>host_response_rate</th>\n",
       "      <th>host_acceptance_rate</th>\n",
       "      <th>host_is_superhost</th>\n",
       "      <th>host_thumbnail_url</th>\n",
       "      <th>host_picture_url</th>\n",
       "      <th>host_neighbourhood</th>\n",
       "      <th>host_listings_count</th>\n",
       "      <th>host_total_listings_count</th>\n",
       "      <th>host_verifications</th>\n",
       "      <th>host_has_profile_pic</th>\n",
       "      <th>host_identity_verified</th>\n",
       "      <th>neighbourhood</th>\n",
       "      <th>neighbourhood_cleansed</th>\n",
       "      <th>neighbourhood_group_cleansed</th>\n",
       "      <th>latitude</th>\n",
       "      <th>longitude</th>\n",
       "      <th>property_type</th>\n",
       "      <th>room_type</th>\n",
       "      <th>accommodates</th>\n",
       "      <th>bathrooms</th>\n",
       "      <th>bathrooms_text</th>\n",
       "      <th>bedrooms</th>\n",
       "      <th>beds</th>\n",
       "      <th>amenities</th>\n",
       "      <th>price</th>\n",
       "      <th>minimum_nights</th>\n",
       "      <th>maximum_nights</th>\n",
       "      <th>minimum_minimum_nights</th>\n",
       "      <th>maximum_minimum_nights</th>\n",
       "      <th>minimum_maximum_nights</th>\n",
       "      <th>maximum_maximum_nights</th>\n",
       "      <th>minimum_nights_avg_ntm</th>\n",
       "      <th>maximum_nights_avg_ntm</th>\n",
       "      <th>calendar_updated</th>\n",
       "      <th>has_availability</th>\n",
       "      <th>availability_30</th>\n",
       "      <th>availability_60</th>\n",
       "      <th>availability_90</th>\n",
       "      <th>availability_365</th>\n",
       "      <th>calendar_last_scraped</th>\n",
       "      <th>number_of_reviews</th>\n",
       "      <th>number_of_reviews_ltm</th>\n",
       "      <th>number_of_reviews_l30d</th>\n",
       "      <th>first_review</th>\n",
       "      <th>last_review</th>\n",
       "      <th>review_scores_rating</th>\n",
       "      <th>review_scores_accuracy</th>\n",
       "      <th>review_scores_cleanliness</th>\n",
       "      <th>review_scores_checkin</th>\n",
       "      <th>review_scores_communication</th>\n",
       "      <th>review_scores_location</th>\n",
       "      <th>review_scores_value</th>\n",
       "      <th>license</th>\n",
       "      <th>instant_bookable</th>\n",
       "      <th>calculated_host_listings_count</th>\n",
       "      <th>calculated_host_listings_count_entire_homes</th>\n",
       "      <th>calculated_host_listings_count_private_rooms</th>\n",
       "      <th>calculated_host_listings_count_shared_rooms</th>\n",
       "      <th>reviews_per_month</th>\n",
       "      <th>price_float</th>\n",
       "    </tr>\n",
       "  </thead>\n",
       "  <tbody>\n",
       "    <tr>\n",
       "      <th>0</th>\n",
       "      <td>49392</td>\n",
       "      <td>https://www.airbnb.com/rooms/49392</td>\n",
       "      <td>20240629050059</td>\n",
       "      <td>2024-06-29</td>\n",
       "      <td>city scrape</td>\n",
       "      <td>Share my Flat in Providencia</td>\n",
       "      <td>NaN</td>\n",
       "      <td>NaN</td>\n",
       "      <td>https://a0.muscache.com/pictures/3740612/b1850...</td>\n",
       "      <td>224592</td>\n",
       "      <td>https://www.airbnb.com/users/show/224592</td>\n",
       "      <td>Maria</td>\n",
       "      <td>2010-09-05</td>\n",
       "      <td>Providencia, Chile</td>\n",
       "      <td>Disfruto viajando, sobre todo a lugares donde ...</td>\n",
       "      <td>NaN</td>\n",
       "      <td>NaN</td>\n",
       "      <td>NaN</td>\n",
       "      <td>f</td>\n",
       "      <td>https://a0.muscache.com/im/pictures/user/bd1a8...</td>\n",
       "      <td>https://a0.muscache.com/im/pictures/user/bd1a8...</td>\n",
       "      <td>NaN</td>\n",
       "      <td>2</td>\n",
       "      <td>3</td>\n",
       "      <td>['email', 'phone']</td>\n",
       "      <td>t</td>\n",
       "      <td>t</td>\n",
       "      <td>NaN</td>\n",
       "      <td>Providencia</td>\n",
       "      <td>NaN</td>\n",
       "      <td>-33.43277</td>\n",
       "      <td>-70.59892</td>\n",
       "      <td>Private room in rental unit</td>\n",
       "      <td>Private room</td>\n",
       "      <td>1</td>\n",
       "      <td>NaN</td>\n",
       "      <td>NaN</td>\n",
       "      <td>1.0</td>\n",
       "      <td>1.0</td>\n",
       "      <td>[]</td>\n",
       "      <td>$50,183.00</td>\n",
       "      <td>3</td>\n",
       "      <td>730</td>\n",
       "      <td>3</td>\n",
       "      <td>3</td>\n",
       "      <td>730</td>\n",
       "      <td>730</td>\n",
       "      <td>3.0</td>\n",
       "      <td>730.0</td>\n",
       "      <td>NaN</td>\n",
       "      <td>t</td>\n",
       "      <td>28</td>\n",
       "      <td>58</td>\n",
       "      <td>88</td>\n",
       "      <td>178</td>\n",
       "      <td>2024-06-29</td>\n",
       "      <td>0</td>\n",
       "      <td>0</td>\n",
       "      <td>0</td>\n",
       "      <td>NaN</td>\n",
       "      <td>NaN</td>\n",
       "      <td>NaN</td>\n",
       "      <td>NaN</td>\n",
       "      <td>NaN</td>\n",
       "      <td>NaN</td>\n",
       "      <td>NaN</td>\n",
       "      <td>NaN</td>\n",
       "      <td>NaN</td>\n",
       "      <td>NaN</td>\n",
       "      <td>f</td>\n",
       "      <td>1</td>\n",
       "      <td>0</td>\n",
       "      <td>1</td>\n",
       "      <td>0</td>\n",
       "      <td>NaN</td>\n",
       "      <td>50183.0</td>\n",
       "    </tr>\n",
       "    <tr>\n",
       "      <th>1</th>\n",
       "      <td>52811</td>\n",
       "      <td>https://www.airbnb.com/rooms/52811</td>\n",
       "      <td>20240629050059</td>\n",
       "      <td>2024-06-29</td>\n",
       "      <td>city scrape</td>\n",
       "      <td>Suite Providencia 1 Santiago Chile</td>\n",
       "      <td>Apartment located on the subway station Manuel...</td>\n",
       "      <td>Building located at the entrance to the Manuel...</td>\n",
       "      <td>https://a0.muscache.com/pictures/miso/Hosting-...</td>\n",
       "      <td>244792</td>\n",
       "      <td>https://www.airbnb.com/users/show/244792</td>\n",
       "      <td>Cristián</td>\n",
       "      <td>2010-09-25</td>\n",
       "      <td>Santiago Metropolitan Region, Chile</td>\n",
       "      <td>Un tipo profesional, trabajador, sencillo, con...</td>\n",
       "      <td>NaN</td>\n",
       "      <td>NaN</td>\n",
       "      <td>NaN</td>\n",
       "      <td>f</td>\n",
       "      <td>https://a0.muscache.com/im/users/244792/profil...</td>\n",
       "      <td>https://a0.muscache.com/im/users/244792/profil...</td>\n",
       "      <td>NaN</td>\n",
       "      <td>3</td>\n",
       "      <td>4</td>\n",
       "      <td>['email', 'phone', 'work_email']</td>\n",
       "      <td>t</td>\n",
       "      <td>t</td>\n",
       "      <td>Providencia, Región Metropolitana, Chile</td>\n",
       "      <td>Providencia</td>\n",
       "      <td>NaN</td>\n",
       "      <td>-33.42959</td>\n",
       "      <td>-70.61880</td>\n",
       "      <td>Entire rental unit</td>\n",
       "      <td>Entire home/apt</td>\n",
       "      <td>4</td>\n",
       "      <td>1.0</td>\n",
       "      <td>1 bath</td>\n",
       "      <td>1.0</td>\n",
       "      <td>1.0</td>\n",
       "      <td>[\"Pool\", \"BBQ grill\", \"Air conditioning\", \"Wif...</td>\n",
       "      <td>$51,130.00</td>\n",
       "      <td>1</td>\n",
       "      <td>1825</td>\n",
       "      <td>1</td>\n",
       "      <td>1</td>\n",
       "      <td>1125</td>\n",
       "      <td>1125</td>\n",
       "      <td>1.0</td>\n",
       "      <td>1125.0</td>\n",
       "      <td>NaN</td>\n",
       "      <td>t</td>\n",
       "      <td>0</td>\n",
       "      <td>0</td>\n",
       "      <td>0</td>\n",
       "      <td>271</td>\n",
       "      <td>2024-06-29</td>\n",
       "      <td>45</td>\n",
       "      <td>0</td>\n",
       "      <td>0</td>\n",
       "      <td>2010-11-13</td>\n",
       "      <td>2021-11-04</td>\n",
       "      <td>4.42</td>\n",
       "      <td>4.59</td>\n",
       "      <td>4.52</td>\n",
       "      <td>4.66</td>\n",
       "      <td>4.59</td>\n",
       "      <td>4.64</td>\n",
       "      <td>4.36</td>\n",
       "      <td>NaN</td>\n",
       "      <td>t</td>\n",
       "      <td>3</td>\n",
       "      <td>3</td>\n",
       "      <td>0</td>\n",
       "      <td>0</td>\n",
       "      <td>0.27</td>\n",
       "      <td>51130.0</td>\n",
       "    </tr>\n",
       "    <tr>\n",
       "      <th>2</th>\n",
       "      <td>53494</td>\n",
       "      <td>https://www.airbnb.com/rooms/53494</td>\n",
       "      <td>20240629050059</td>\n",
       "      <td>2024-06-29</td>\n",
       "      <td>city scrape</td>\n",
       "      <td>depto centro ski el colorado chile</td>\n",
       "      <td>NaN</td>\n",
       "      <td>NaN</td>\n",
       "      <td>https://a0.muscache.com/pictures/310936/ff7d53...</td>\n",
       "      <td>249097</td>\n",
       "      <td>https://www.airbnb.com/users/show/249097</td>\n",
       "      <td>Paulina</td>\n",
       "      <td>2010-09-29</td>\n",
       "      <td>NaN</td>\n",
       "      <td>Soy dentista, casada,4 hijos</td>\n",
       "      <td>within an hour</td>\n",
       "      <td>100%</td>\n",
       "      <td>74%</td>\n",
       "      <td>f</td>\n",
       "      <td>https://a0.muscache.com/im/pictures/user/6d0ff...</td>\n",
       "      <td>https://a0.muscache.com/im/pictures/user/6d0ff...</td>\n",
       "      <td>NaN</td>\n",
       "      <td>2</td>\n",
       "      <td>2</td>\n",
       "      <td>['email', 'phone']</td>\n",
       "      <td>t</td>\n",
       "      <td>t</td>\n",
       "      <td>NaN</td>\n",
       "      <td>Lo Barnechea</td>\n",
       "      <td>NaN</td>\n",
       "      <td>-33.34521</td>\n",
       "      <td>-70.29543</td>\n",
       "      <td>Entire rental unit</td>\n",
       "      <td>Entire home/apt</td>\n",
       "      <td>6</td>\n",
       "      <td>2.0</td>\n",
       "      <td>2 baths</td>\n",
       "      <td>2.0</td>\n",
       "      <td>8.0</td>\n",
       "      <td>[\"Free parking on premises\", \"Essentials\", \"Se...</td>\n",
       "      <td>$235,714.00</td>\n",
       "      <td>2</td>\n",
       "      <td>730</td>\n",
       "      <td>1</td>\n",
       "      <td>2</td>\n",
       "      <td>730</td>\n",
       "      <td>730</td>\n",
       "      <td>2.0</td>\n",
       "      <td>730.0</td>\n",
       "      <td>NaN</td>\n",
       "      <td>t</td>\n",
       "      <td>4</td>\n",
       "      <td>17</td>\n",
       "      <td>44</td>\n",
       "      <td>319</td>\n",
       "      <td>2024-06-29</td>\n",
       "      <td>41</td>\n",
       "      <td>4</td>\n",
       "      <td>4</td>\n",
       "      <td>2016-07-04</td>\n",
       "      <td>2024-06-20</td>\n",
       "      <td>4.76</td>\n",
       "      <td>4.80</td>\n",
       "      <td>4.90</td>\n",
       "      <td>4.88</td>\n",
       "      <td>4.90</td>\n",
       "      <td>4.76</td>\n",
       "      <td>4.68</td>\n",
       "      <td>NaN</td>\n",
       "      <td>f</td>\n",
       "      <td>1</td>\n",
       "      <td>1</td>\n",
       "      <td>0</td>\n",
       "      <td>0</td>\n",
       "      <td>0.42</td>\n",
       "      <td>235714.0</td>\n",
       "    </tr>\n",
       "    <tr>\n",
       "      <th>3</th>\n",
       "      <td>65058</td>\n",
       "      <td>https://www.airbnb.com/rooms/65058</td>\n",
       "      <td>20240629050059</td>\n",
       "      <td>2024-06-29</td>\n",
       "      <td>previous scrape</td>\n",
       "      <td>Dpto amoblado centro historico</td>\n",
       "      <td>NaN</td>\n",
       "      <td>NaN</td>\n",
       "      <td>https://a0.muscache.com/pictures/1023289/2ec04...</td>\n",
       "      <td>318016</td>\n",
       "      <td>https://www.airbnb.com/users/show/318016</td>\n",
       "      <td>Patricio</td>\n",
       "      <td>2010-12-13</td>\n",
       "      <td>Santiago, Chile</td>\n",
       "      <td>Me gusta el deporte y la vida al aire libre (b...</td>\n",
       "      <td>NaN</td>\n",
       "      <td>NaN</td>\n",
       "      <td>NaN</td>\n",
       "      <td>f</td>\n",
       "      <td>https://a0.muscache.com/im/users/318016/profil...</td>\n",
       "      <td>https://a0.muscache.com/im/users/318016/profil...</td>\n",
       "      <td>NaN</td>\n",
       "      <td>1</td>\n",
       "      <td>1</td>\n",
       "      <td>['email', 'phone']</td>\n",
       "      <td>t</td>\n",
       "      <td>f</td>\n",
       "      <td>NaN</td>\n",
       "      <td>Recoleta</td>\n",
       "      <td>NaN</td>\n",
       "      <td>-33.43049</td>\n",
       "      <td>-70.64079</td>\n",
       "      <td>Private room in rental unit</td>\n",
       "      <td>Private room</td>\n",
       "      <td>2</td>\n",
       "      <td>NaN</td>\n",
       "      <td>1 bath</td>\n",
       "      <td>NaN</td>\n",
       "      <td>NaN</td>\n",
       "      <td>[\"Pool\", \"TV\", \"Smoking allowed\", \"Heating\", \"...</td>\n",
       "      <td>NaN</td>\n",
       "      <td>2</td>\n",
       "      <td>730</td>\n",
       "      <td>2</td>\n",
       "      <td>2</td>\n",
       "      <td>730</td>\n",
       "      <td>730</td>\n",
       "      <td>2.0</td>\n",
       "      <td>730.0</td>\n",
       "      <td>NaN</td>\n",
       "      <td>NaN</td>\n",
       "      <td>0</td>\n",
       "      <td>0</td>\n",
       "      <td>0</td>\n",
       "      <td>0</td>\n",
       "      <td>2024-06-29</td>\n",
       "      <td>0</td>\n",
       "      <td>0</td>\n",
       "      <td>0</td>\n",
       "      <td>NaN</td>\n",
       "      <td>NaN</td>\n",
       "      <td>NaN</td>\n",
       "      <td>NaN</td>\n",
       "      <td>NaN</td>\n",
       "      <td>NaN</td>\n",
       "      <td>NaN</td>\n",
       "      <td>NaN</td>\n",
       "      <td>NaN</td>\n",
       "      <td>NaN</td>\n",
       "      <td>f</td>\n",
       "      <td>1</td>\n",
       "      <td>0</td>\n",
       "      <td>1</td>\n",
       "      <td>0</td>\n",
       "      <td>NaN</td>\n",
       "      <td>NaN</td>\n",
       "    </tr>\n",
       "    <tr>\n",
       "      <th>4</th>\n",
       "      <td>73752</td>\n",
       "      <td>https://www.airbnb.com/rooms/73752</td>\n",
       "      <td>20240629050059</td>\n",
       "      <td>2024-06-29</td>\n",
       "      <td>previous scrape</td>\n",
       "      <td>Barrio Lastarria</td>\n",
       "      <td>NaN</td>\n",
       "      <td>NaN</td>\n",
       "      <td>https://a0.muscache.com/pictures/486180/ed0b1c...</td>\n",
       "      <td>374124</td>\n",
       "      <td>https://www.airbnb.com/users/show/374124</td>\n",
       "      <td>Daniela&amp;Ricardo</td>\n",
       "      <td>2011-02-02</td>\n",
       "      <td>Santiago, Chile</td>\n",
       "      <td>we enjoy meeting people and other cultures. We...</td>\n",
       "      <td>NaN</td>\n",
       "      <td>NaN</td>\n",
       "      <td>NaN</td>\n",
       "      <td>f</td>\n",
       "      <td>https://a0.muscache.com/im/users/374124/profil...</td>\n",
       "      <td>https://a0.muscache.com/im/users/374124/profil...</td>\n",
       "      <td>NaN</td>\n",
       "      <td>1</td>\n",
       "      <td>1</td>\n",
       "      <td>['email', 'phone']</td>\n",
       "      <td>t</td>\n",
       "      <td>f</td>\n",
       "      <td>NaN</td>\n",
       "      <td>Santiago</td>\n",
       "      <td>NaN</td>\n",
       "      <td>-33.43865</td>\n",
       "      <td>-70.64241</td>\n",
       "      <td>Private room in rental unit</td>\n",
       "      <td>Private room</td>\n",
       "      <td>1</td>\n",
       "      <td>NaN</td>\n",
       "      <td>3 baths</td>\n",
       "      <td>NaN</td>\n",
       "      <td>NaN</td>\n",
       "      <td>[\"Heating\", \"TV\", \"Kitchen\", \"Wifi\"]</td>\n",
       "      <td>NaN</td>\n",
       "      <td>3</td>\n",
       "      <td>10</td>\n",
       "      <td>3</td>\n",
       "      <td>3</td>\n",
       "      <td>10</td>\n",
       "      <td>10</td>\n",
       "      <td>3.0</td>\n",
       "      <td>10.0</td>\n",
       "      <td>NaN</td>\n",
       "      <td>NaN</td>\n",
       "      <td>0</td>\n",
       "      <td>0</td>\n",
       "      <td>0</td>\n",
       "      <td>0</td>\n",
       "      <td>2024-06-29</td>\n",
       "      <td>0</td>\n",
       "      <td>0</td>\n",
       "      <td>0</td>\n",
       "      <td>NaN</td>\n",
       "      <td>NaN</td>\n",
       "      <td>NaN</td>\n",
       "      <td>NaN</td>\n",
       "      <td>NaN</td>\n",
       "      <td>NaN</td>\n",
       "      <td>NaN</td>\n",
       "      <td>NaN</td>\n",
       "      <td>NaN</td>\n",
       "      <td>NaN</td>\n",
       "      <td>f</td>\n",
       "      <td>1</td>\n",
       "      <td>0</td>\n",
       "      <td>1</td>\n",
       "      <td>0</td>\n",
       "      <td>NaN</td>\n",
       "      <td>NaN</td>\n",
       "    </tr>\n",
       "  </tbody>\n",
       "</table>\n",
       "</div>"
      ],
      "text/plain": [
       "      id                         listing_url       scrape_id last_scraped  \\\n",
       "0  49392  https://www.airbnb.com/rooms/49392  20240629050059   2024-06-29   \n",
       "1  52811  https://www.airbnb.com/rooms/52811  20240629050059   2024-06-29   \n",
       "2  53494  https://www.airbnb.com/rooms/53494  20240629050059   2024-06-29   \n",
       "3  65058  https://www.airbnb.com/rooms/65058  20240629050059   2024-06-29   \n",
       "4  73752  https://www.airbnb.com/rooms/73752  20240629050059   2024-06-29   \n",
       "\n",
       "            source                                name  \\\n",
       "0      city scrape        Share my Flat in Providencia   \n",
       "1      city scrape  Suite Providencia 1 Santiago Chile   \n",
       "2      city scrape  depto centro ski el colorado chile   \n",
       "3  previous scrape      Dpto amoblado centro historico   \n",
       "4  previous scrape                    Barrio Lastarria   \n",
       "\n",
       "                                         description  \\\n",
       "0                                                NaN   \n",
       "1  Apartment located on the subway station Manuel...   \n",
       "2                                                NaN   \n",
       "3                                                NaN   \n",
       "4                                                NaN   \n",
       "\n",
       "                               neighborhood_overview  \\\n",
       "0                                                NaN   \n",
       "1  Building located at the entrance to the Manuel...   \n",
       "2                                                NaN   \n",
       "3                                                NaN   \n",
       "4                                                NaN   \n",
       "\n",
       "                                         picture_url  host_id  \\\n",
       "0  https://a0.muscache.com/pictures/3740612/b1850...   224592   \n",
       "1  https://a0.muscache.com/pictures/miso/Hosting-...   244792   \n",
       "2  https://a0.muscache.com/pictures/310936/ff7d53...   249097   \n",
       "3  https://a0.muscache.com/pictures/1023289/2ec04...   318016   \n",
       "4  https://a0.muscache.com/pictures/486180/ed0b1c...   374124   \n",
       "\n",
       "                                   host_url        host_name  host_since  \\\n",
       "0  https://www.airbnb.com/users/show/224592            Maria  2010-09-05   \n",
       "1  https://www.airbnb.com/users/show/244792         Cristián  2010-09-25   \n",
       "2  https://www.airbnb.com/users/show/249097          Paulina  2010-09-29   \n",
       "3  https://www.airbnb.com/users/show/318016         Patricio  2010-12-13   \n",
       "4  https://www.airbnb.com/users/show/374124  Daniela&Ricardo  2011-02-02   \n",
       "\n",
       "                         host_location  \\\n",
       "0                   Providencia, Chile   \n",
       "1  Santiago Metropolitan Region, Chile   \n",
       "2                                  NaN   \n",
       "3                      Santiago, Chile   \n",
       "4                      Santiago, Chile   \n",
       "\n",
       "                                          host_about host_response_time  \\\n",
       "0  Disfruto viajando, sobre todo a lugares donde ...                NaN   \n",
       "1  Un tipo profesional, trabajador, sencillo, con...                NaN   \n",
       "2                       Soy dentista, casada,4 hijos     within an hour   \n",
       "3  Me gusta el deporte y la vida al aire libre (b...                NaN   \n",
       "4  we enjoy meeting people and other cultures. We...                NaN   \n",
       "\n",
       "  host_response_rate host_acceptance_rate host_is_superhost  \\\n",
       "0                NaN                  NaN                 f   \n",
       "1                NaN                  NaN                 f   \n",
       "2               100%                  74%                 f   \n",
       "3                NaN                  NaN                 f   \n",
       "4                NaN                  NaN                 f   \n",
       "\n",
       "                                  host_thumbnail_url  \\\n",
       "0  https://a0.muscache.com/im/pictures/user/bd1a8...   \n",
       "1  https://a0.muscache.com/im/users/244792/profil...   \n",
       "2  https://a0.muscache.com/im/pictures/user/6d0ff...   \n",
       "3  https://a0.muscache.com/im/users/318016/profil...   \n",
       "4  https://a0.muscache.com/im/users/374124/profil...   \n",
       "\n",
       "                                    host_picture_url host_neighbourhood  \\\n",
       "0  https://a0.muscache.com/im/pictures/user/bd1a8...                NaN   \n",
       "1  https://a0.muscache.com/im/users/244792/profil...                NaN   \n",
       "2  https://a0.muscache.com/im/pictures/user/6d0ff...                NaN   \n",
       "3  https://a0.muscache.com/im/users/318016/profil...                NaN   \n",
       "4  https://a0.muscache.com/im/users/374124/profil...                NaN   \n",
       "\n",
       "   host_listings_count  host_total_listings_count  \\\n",
       "0                    2                          3   \n",
       "1                    3                          4   \n",
       "2                    2                          2   \n",
       "3                    1                          1   \n",
       "4                    1                          1   \n",
       "\n",
       "                 host_verifications host_has_profile_pic  \\\n",
       "0                ['email', 'phone']                    t   \n",
       "1  ['email', 'phone', 'work_email']                    t   \n",
       "2                ['email', 'phone']                    t   \n",
       "3                ['email', 'phone']                    t   \n",
       "4                ['email', 'phone']                    t   \n",
       "\n",
       "  host_identity_verified                             neighbourhood  \\\n",
       "0                      t                                       NaN   \n",
       "1                      t  Providencia, Región Metropolitana, Chile   \n",
       "2                      t                                       NaN   \n",
       "3                      f                                       NaN   \n",
       "4                      f                                       NaN   \n",
       "\n",
       "  neighbourhood_cleansed  neighbourhood_group_cleansed  latitude  longitude  \\\n",
       "0            Providencia                           NaN -33.43277  -70.59892   \n",
       "1            Providencia                           NaN -33.42959  -70.61880   \n",
       "2           Lo Barnechea                           NaN -33.34521  -70.29543   \n",
       "3               Recoleta                           NaN -33.43049  -70.64079   \n",
       "4               Santiago                           NaN -33.43865  -70.64241   \n",
       "\n",
       "                 property_type        room_type  accommodates  bathrooms  \\\n",
       "0  Private room in rental unit     Private room             1        NaN   \n",
       "1           Entire rental unit  Entire home/apt             4        1.0   \n",
       "2           Entire rental unit  Entire home/apt             6        2.0   \n",
       "3  Private room in rental unit     Private room             2        NaN   \n",
       "4  Private room in rental unit     Private room             1        NaN   \n",
       "\n",
       "  bathrooms_text  bedrooms  beds  \\\n",
       "0            NaN       1.0   1.0   \n",
       "1         1 bath       1.0   1.0   \n",
       "2        2 baths       2.0   8.0   \n",
       "3         1 bath       NaN   NaN   \n",
       "4        3 baths       NaN   NaN   \n",
       "\n",
       "                                           amenities        price  \\\n",
       "0                                                 []   $50,183.00   \n",
       "1  [\"Pool\", \"BBQ grill\", \"Air conditioning\", \"Wif...   $51,130.00   \n",
       "2  [\"Free parking on premises\", \"Essentials\", \"Se...  $235,714.00   \n",
       "3  [\"Pool\", \"TV\", \"Smoking allowed\", \"Heating\", \"...          NaN   \n",
       "4               [\"Heating\", \"TV\", \"Kitchen\", \"Wifi\"]          NaN   \n",
       "\n",
       "   minimum_nights  maximum_nights  minimum_minimum_nights  \\\n",
       "0               3             730                       3   \n",
       "1               1            1825                       1   \n",
       "2               2             730                       1   \n",
       "3               2             730                       2   \n",
       "4               3              10                       3   \n",
       "\n",
       "   maximum_minimum_nights  minimum_maximum_nights  maximum_maximum_nights  \\\n",
       "0                       3                     730                     730   \n",
       "1                       1                    1125                    1125   \n",
       "2                       2                     730                     730   \n",
       "3                       2                     730                     730   \n",
       "4                       3                      10                      10   \n",
       "\n",
       "   minimum_nights_avg_ntm  maximum_nights_avg_ntm  calendar_updated  \\\n",
       "0                     3.0                   730.0               NaN   \n",
       "1                     1.0                  1125.0               NaN   \n",
       "2                     2.0                   730.0               NaN   \n",
       "3                     2.0                   730.0               NaN   \n",
       "4                     3.0                    10.0               NaN   \n",
       "\n",
       "  has_availability  availability_30  availability_60  availability_90  \\\n",
       "0                t               28               58               88   \n",
       "1                t                0                0                0   \n",
       "2                t                4               17               44   \n",
       "3              NaN                0                0                0   \n",
       "4              NaN                0                0                0   \n",
       "\n",
       "   availability_365 calendar_last_scraped  number_of_reviews  \\\n",
       "0               178            2024-06-29                  0   \n",
       "1               271            2024-06-29                 45   \n",
       "2               319            2024-06-29                 41   \n",
       "3                 0            2024-06-29                  0   \n",
       "4                 0            2024-06-29                  0   \n",
       "\n",
       "   number_of_reviews_ltm  number_of_reviews_l30d first_review last_review  \\\n",
       "0                      0                       0          NaN         NaN   \n",
       "1                      0                       0   2010-11-13  2021-11-04   \n",
       "2                      4                       4   2016-07-04  2024-06-20   \n",
       "3                      0                       0          NaN         NaN   \n",
       "4                      0                       0          NaN         NaN   \n",
       "\n",
       "   review_scores_rating  review_scores_accuracy  review_scores_cleanliness  \\\n",
       "0                   NaN                     NaN                        NaN   \n",
       "1                  4.42                    4.59                       4.52   \n",
       "2                  4.76                    4.80                       4.90   \n",
       "3                   NaN                     NaN                        NaN   \n",
       "4                   NaN                     NaN                        NaN   \n",
       "\n",
       "   review_scores_checkin  review_scores_communication  review_scores_location  \\\n",
       "0                    NaN                          NaN                     NaN   \n",
       "1                   4.66                         4.59                    4.64   \n",
       "2                   4.88                         4.90                    4.76   \n",
       "3                    NaN                          NaN                     NaN   \n",
       "4                    NaN                          NaN                     NaN   \n",
       "\n",
       "   review_scores_value license instant_bookable  \\\n",
       "0                  NaN     NaN                f   \n",
       "1                 4.36     NaN                t   \n",
       "2                 4.68     NaN                f   \n",
       "3                  NaN     NaN                f   \n",
       "4                  NaN     NaN                f   \n",
       "\n",
       "   calculated_host_listings_count  \\\n",
       "0                               1   \n",
       "1                               3   \n",
       "2                               1   \n",
       "3                               1   \n",
       "4                               1   \n",
       "\n",
       "   calculated_host_listings_count_entire_homes  \\\n",
       "0                                            0   \n",
       "1                                            3   \n",
       "2                                            1   \n",
       "3                                            0   \n",
       "4                                            0   \n",
       "\n",
       "   calculated_host_listings_count_private_rooms  \\\n",
       "0                                             1   \n",
       "1                                             0   \n",
       "2                                             0   \n",
       "3                                             1   \n",
       "4                                             1   \n",
       "\n",
       "   calculated_host_listings_count_shared_rooms  reviews_per_month  price_float  \n",
       "0                                            0                NaN      50183.0  \n",
       "1                                            0               0.27      51130.0  \n",
       "2                                            0               0.42     235714.0  \n",
       "3                                            0                NaN          NaN  \n",
       "4                                            0                NaN          NaN  "
      ]
     },
     "execution_count": 12,
     "metadata": {},
     "output_type": "execute_result"
    }
   ],
   "source": [
    "listings_Santiago_df.head()"
   ]
  },
  {
   "cell_type": "code",
   "execution_count": 14,
   "id": "96a32dba",
   "metadata": {},
   "outputs": [
    {
     "name": "stdout",
     "output_type": "stream",
     "text": [
      "87723.22100597068\n"
     ]
    }
   ],
   "source": [
    "mean_price = listings_Santiago_df['price_float'].mean(skipna=True)\n",
    "print(mean_price)"
   ]
  },
  {
   "cell_type": "code",
   "execution_count": 15,
   "id": "84c89889",
   "metadata": {},
   "outputs": [
    {
     "name": "stdout",
     "output_type": "stream",
     "text": [
      "810490.798883986\n"
     ]
    }
   ],
   "source": [
    "std_dev_price = listings_Santiago_df['price_float'].std(skipna=True)\n",
    "print(std_dev_price)"
   ]
  },
  {
   "cell_type": "code",
   "execution_count": 16,
   "id": "e9d82956-e456-41b6-8c00-61176622ec39",
   "metadata": {},
   "outputs": [
    {
     "data": {
      "text/plain": [
       "[]"
      ]
     },
     "execution_count": 16,
     "metadata": {},
     "output_type": "execute_result"
    },
    {
     "data": {
      "image/png": "[encoded data removed]",
      "text/plain": [
       "<Figure size 2000x500 with 1 Axes>"
      ]
     },
     "metadata": {},
     "output_type": "display_data"
    }
   ],
   "source": [
    "# Plotting a histogram for price\n",
    "plt.figure(figsize=(20, 5))\n",
    "plt.hist(listings_Santiago_df[\"price_float\"], bins=50)\n",
    "plt.title(\"Price distribution\")\n",
    "plt.plot()"
   ]
  },
  {
   "cell_type": "markdown",
   "id": "475ab96f-e169-4998-ae2d-563123991e30",
   "metadata": {},
   "source": [
    "<span style=\"color: red;\">This attribute has an extreme outlier making difficult a proper visualization?</span>"
   ]
  },
  {
   "cell_type": "code",
   "execution_count": 17,
   "id": "c0cd6073-7c39-4216-a807-e905a2bc7a88",
   "metadata": {},
   "outputs": [],
   "source": [
    "# Let's make some calculations for determining an outlier threshold\n",
    "q1 = listings_Santiago_df[\"price_float\"].quantile(0.25)\n",
    "q3 = listings_Santiago_df[\"price_float\"].quantile(0.75)\n",
    "iqr = q3 - q1"
   ]
  },
  {
   "cell_type": "code",
   "execution_count": 18,
   "id": "687f2fcc-a10e-4324-b016-bba3ed48c4fb",
   "metadata": {},
   "outputs": [
    {
     "data": {
      "text/plain": [
       "[]"
      ]
     },
     "execution_count": 18,
     "metadata": {},
     "output_type": "execute_result"
    },
    {
     "data": {
      "image/png": "[encoded data removed]",
      "text/plain": [
       "<Figure size 2000x500 with 1 Axes>"
      ]
     },
     "metadata": {},
     "output_type": "display_data"
    }
   ],
   "source": [
    "plt.figure(figsize=(20, 5))\n",
    "plt.hist(listings_Santiago_df.loc[listings_Santiago_df[\"price_float\"] <= (q3 + 1.5 * iqr)][\"price_float\"], bins=50)\n",
    "plt.title(\"Price distribution\")\n",
    "plt.plot()"
   ]
  },
  {
   "cell_type": "code",
   "execution_count": 34,
   "id": "69954148",
   "metadata": {},
   "outputs": [
    {
     "data": {
      "image/png": "[encoded data removed]",
      "text/plain": [
       "<Figure size 2000x500 with 1 Axes>"
      ]
     },
     "metadata": {},
     "output_type": "display_data"
    }
   ],
   "source": [
    "plt.figure(figsize=(20, 5))\n",
    "plt.boxplot(listings_Santiago_df.loc[listings_Santiago_df[\"price_float\"] <= (q3 + 1.5 * iqr)][\"price_float\"], showmeans=True, vert=False)\n",
    "plt.title(\"Price distribution\")\n",
    "plt.show()"
   ]
  },
  {
   "cell_type": "markdown",
   "id": "ce567995",
   "metadata": {},
   "source": [
    "#### 2.2 Location"
   ]
  },
  {
   "cell_type": "code",
   "execution_count": 20,
   "id": "bc04351d-8e46-49ee-9c41-3682e24bd494",
   "metadata": {},
   "outputs": [
    {
     "data": {
      "text/plain": [
       "array(['Providencia', 'Lo Barnechea', 'Recoleta', 'Santiago',\n",
       "       'La Florida', 'Las Condes', 'La Reina', 'Ñuñoa', 'Independencia',\n",
       "       'San Miguel', 'Vitacura', 'Maipú', 'Peñalolén', 'Estación Central',\n",
       "       'Pedro Aguirre Cerda', 'San Joaquín', 'Macul', 'El Bosque',\n",
       "       'Lo Espejo', 'La Cisterna', 'Quinta Normal', 'Quilicura',\n",
       "       'Pudahuel', 'Lo Prado', 'Huechuraba', 'Renca', 'Cerrillos',\n",
       "       'La Granja', 'Conchalí', 'Cerro Navia', 'San Ramón'], dtype=object)"
      ]
     },
     "execution_count": 20,
     "metadata": {},
     "output_type": "execute_result"
    }
   ],
   "source": [
    "# Showing unique values of neighborhoods\n",
    "listings_Santiago_df[\"neighbourhood_cleansed\"].unique()"
   ]
  },
  {
   "cell_type": "code",
   "execution_count": 21,
   "id": "2230e041",
   "metadata": {},
   "outputs": [
    {
     "data": {
      "text/plain": [
       "neighbourhood_cleansed\n",
       "Santiago               0.343446\n",
       "Providencia            0.190684\n",
       "Las Condes             0.168850\n",
       "Ñuñoa                  0.076228\n",
       "Lo Barnechea           0.056615\n",
       "Vitacura               0.024669\n",
       "Recoleta               0.020302\n",
       "Estación Central       0.018463\n",
       "La Florida             0.012334\n",
       "San Miguel             0.011798\n",
       "Macul                  0.010879\n",
       "La Reina               0.009959\n",
       "Maipú                  0.007814\n",
       "Peñalolén              0.006818\n",
       "Independencia          0.006589\n",
       "San Joaquín            0.006435\n",
       "Pudahuel               0.005516\n",
       "La Cisterna            0.005516\n",
       "Huechuraba             0.004214\n",
       "Quinta Normal          0.003294\n",
       "Quilicura              0.002911\n",
       "Renca                  0.001685\n",
       "El Bosque              0.000996\n",
       "Cerrillos              0.000919\n",
       "Lo Prado               0.000766\n",
       "Conchalí               0.000689\n",
       "La Granja              0.000689\n",
       "Pedro Aguirre Cerda    0.000383\n",
       "Cerro Navia            0.000383\n",
       "Lo Espejo              0.000077\n",
       "San Ramón              0.000077\n",
       "Name: proportion, dtype: float64"
      ]
     },
     "execution_count": 21,
     "metadata": {},
     "output_type": "execute_result"
    }
   ],
   "source": [
    "listings_Santiago_df[\"neighbourhood_cleansed\"].value_counts(dropna=False, normalize=True)"
   ]
  },
  {
   "cell_type": "code",
   "execution_count": 22,
   "id": "b311b9d8",
   "metadata": {},
   "outputs": [
    {
     "data": {
      "text/plain": [
       "neighbourhood_cleansed\n",
       "Santiago               4483\n",
       "Providencia            2489\n",
       "Las Condes             2204\n",
       "Ñuñoa                   995\n",
       "Lo Barnechea            739\n",
       "Vitacura                322\n",
       "Recoleta                265\n",
       "Estación Central        241\n",
       "La Florida              161\n",
       "San Miguel              154\n",
       "Macul                   142\n",
       "La Reina                130\n",
       "Maipú                   102\n",
       "Peñalolén                89\n",
       "Independencia            86\n",
       "San Joaquín              84\n",
       "Pudahuel                 72\n",
       "La Cisterna              72\n",
       "Huechuraba               55\n",
       "Quinta Normal            43\n",
       "Quilicura                38\n",
       "Renca                    22\n",
       "El Bosque                13\n",
       "Cerrillos                12\n",
       "Lo Prado                 10\n",
       "Conchalí                  9\n",
       "La Granja                 9\n",
       "Pedro Aguirre Cerda       5\n",
       "Cerro Navia               5\n",
       "Lo Espejo                 1\n",
       "San Ramón                 1\n",
       "Name: count, dtype: int64"
      ]
     },
     "execution_count": 22,
     "metadata": {},
     "output_type": "execute_result"
    }
   ],
   "source": [
    "listings_Santiago_df[\"neighbourhood_cleansed\"].value_counts(dropna=False, normalize=False)"
   ]
  },
  {
   "cell_type": "code",
   "execution_count": 23,
   "id": "01a8b2d5",
   "metadata": {},
   "outputs": [
    {
     "data": {
      "image/png": "[encoded data removed]",
      "text/plain": [
       "<Figure size 640x480 with 1 Axes>"
      ]
     },
     "metadata": {},
     "output_type": "display_data"
    }
   ],
   "source": [
    "listings_Santiago_df[\"neighbourhood_cleansed\"].value_counts().plot(kind=\"bar\", color=\"red\")\n",
    "plt.title(\"Neighbourhood Distribution\")\n",
    "plt.xlabel(\"Neighbourhood\")\n",
    "plt.ylabel(\"Frequency\")\n",
    "plt.show()"
   ]
  },
  {
   "cell_type": "markdown",
   "id": "654cd0c0",
   "metadata": {},
   "source": [
    "#### 2.3 Property Type"
   ]
  },
  {
   "cell_type": "code",
   "execution_count": 24,
   "id": "31768fab-c8d6-46e1-bca2-58b43d2f7a8f",
   "metadata": {},
   "outputs": [
    {
     "data": {
      "text/plain": [
       "room_type\n",
       "Entire home/apt    0.705585\n",
       "Private room       0.279093\n",
       "Shared room        0.012794\n",
       "Hotel room         0.002528\n",
       "Name: proportion, dtype: float64"
      ]
     },
     "execution_count": 24,
     "metadata": {},
     "output_type": "execute_result"
    }
   ],
   "source": [
    "# Calculating the relative frecuency of room types\n",
    "listings_Santiago_df[\"room_type\"].value_counts(dropna=False, normalize=True) # You can set normalize to False for calculating the absolute frecuency"
   ]
  },
  {
   "cell_type": "code",
   "execution_count": 25,
   "id": "6cc09f30",
   "metadata": {},
   "outputs": [
    {
     "data": {
      "text/plain": [
       "room_type\n",
       "Entire home/apt    9210\n",
       "Private room       3643\n",
       "Shared room         167\n",
       "Hotel room           33\n",
       "Name: count, dtype: int64"
      ]
     },
     "execution_count": 25,
     "metadata": {},
     "output_type": "execute_result"
    }
   ],
   "source": [
    "listings_Santiago_df[\"room_type\"].value_counts(dropna=False, normalize=False)"
   ]
  },
  {
   "cell_type": "code",
   "execution_count": 26,
   "id": "0f3a1f80",
   "metadata": {},
   "outputs": [
    {
     "data": {
      "image/png": "[encoded data removed]",
      "text/plain": [
       "<Figure size 640x480 with 1 Axes>"
      ]
     },
     "metadata": {},
     "output_type": "display_data"
    }
   ],
   "source": [
    "listings_Santiago_df[\"room_type\"].value_counts().plot(kind=\"bar\", color=\"blue\")\n",
    "plt.title(\"Property Type Distribution\")\n",
    "plt.xlabel(\"Property Type\")\n",
    "plt.ylabel(\"Frequency\")\n",
    "plt.show()"
   ]
  },
  {
   "cell_type": "markdown",
   "id": "760011b2",
   "metadata": {},
   "source": [
    "#### 2.4 User Rating"
   ]
  },
  {
   "cell_type": "code",
   "execution_count": 28,
   "id": "23c47729",
   "metadata": {},
   "outputs": [
    {
     "name": "stdout",
     "output_type": "stream",
     "text": [
      "4.712848056537102\n"
     ]
    }
   ],
   "source": [
    "mean_rating = listings_Santiago_df['review_scores_value'].mean(skipna=True)\n",
    "print(mean_rating)"
   ]
  },
  {
   "cell_type": "code",
   "execution_count": 29,
   "id": "ce4dd2d6-eda2-4c26-89d2-bba762a5c7be",
   "metadata": {},
   "outputs": [
    {
     "data": {
      "image/png": "[encoded data removed]",
      "text/plain": [
       "<Figure size 2000x500 with 1 Axes>"
      ]
     },
     "metadata": {},
     "output_type": "display_data"
    }
   ],
   "source": [
    "# Plotting a boxplot for number of reviews\n",
    "plt.figure(figsize=(20, 5))\n",
    "plt.boxplot(listings_Santiago_df[\"number_of_reviews\"], showmeans=True, vert=False)\n",
    "plt.title(\"Number of reviews distribution\")\n",
    "plt.show()"
   ]
  },
  {
   "cell_type": "markdown",
   "id": "5385c93a",
   "metadata": {},
   "source": [
    "#### 2.5 Amenities"
   ]
  },
  {
   "cell_type": "code",
   "execution_count": 32,
   "id": "d2bef3ad",
   "metadata": {},
   "outputs": [
    {
     "data": {
      "text/plain": [
       "array(['[]',\n",
       "       '[\"Pool\", \"BBQ grill\", \"Air conditioning\", \"Wifi\", \"Shampoo\", \"Fire extinguisher\", \"Carbon monoxide alarm\", \"Microwave\", \"Paid parking on premises\", \"Dishes and silverware\", \"Hair dryer\", \"TV with standard cable\", \"Washer\", \"Host greets you\", \"Oven\", \"Heating\", \"Hangers\", \"Long term stays allowed\", \"Elevator\", \"Paid parking off premises\", \"First aid kit\", \"Cooking basics\", \"Smoke alarm\", \"Refrigerator\", \"Essentials\", \"Gym\", \"Dryer\", \"Iron\", \"Hot water\", \"Kitchen\"]',\n",
       "       '[\"Free parking on premises\", \"Essentials\", \"Self check-in\", \"Building staff\", \"Heating\", \"TV with standard cable\", \"Hot water\", \"Kitchen\"]',\n",
       "       ...,\n",
       "       '[\"Pets allowed\", \"TV\", \"Paid parking on premises\", \"Wifi\", \"Host greets you\", \"Kitchen\", \"Exterior security cameras on property\"]',\n",
       "       '[\"Dining table\", \"Freezer\", \"Clothing storage\", \"Laundromat nearby\", \"Free parking on premises\", \"Room-darkening shades\", \"Bed linens\", \"Outdoor furniture\", \"Wifi\", \"Shampoo\", \"Body soap\", \"Fire extinguisher\", \"Microwave\", \"Dishes and silverware\", \"Hair dryer\", \"Dedicated workspace\", \"Coffee\", \"Outdoor dining area\", \"Patio or balcony\", \"Pets allowed\", \"Smoking allowed\", \"Heating\", \"Hangers\", \"Elevator\", \"Drying rack for clothing\", \"Blender\", \"Cooking basics\", \"Bathtub\", \"Smoke alarm\", \"HDTV with Disney+, Netflix\", \"Cleaning products\", \"Essentials\", \"Refrigerator\", \"Wine glasses\", \"Oven\", \"Iron\", \"Coffee maker: Nespresso\", \"Hot water\", \"Kitchen\", \"Single level home\"]',\n",
       "       '[\"Hot water kettle\", \"Dining table\", \"Freezer\", \"Extra pillows and blankets\", \"Laundromat nearby\", \"Room-darkening shades\", \"Bed linens\", \"Body soap\", \"Stainless steel single oven\", \"Safe\", \"Microwave\", \"Mini fridge\", \"Dishes and silverware\", \"Dishwasher\", \"Paid washer \\\\u2013 In building\", \"Hair dryer\", \"Host greets you\", \"Coffee maker: french press\", \"Baking sheet\", \"Coffee\", \"TV\", \"Breakfast\", \"Long term stays allowed\", \"Portable fans\", \"Outdoor shower\", \"Drying rack for clothing\", \"First aid kit\", \"Blender\", \"Pack \\\\u2019n play/Travel crib - available upon request\", \"Housekeeping available 24 hours, every day - available at extra cost\", \"Cooking basics\", \"Bathtub\", \"Clothing storage: closet\", \"Portable heater\", \"Shower gel\", \"Cleaning products\", \"Essentials\", \"Paid dryer \\\\u2013 In building\", \"Other stainless steel electric stove\", \"Luggage dropoff allowed\", \"Toaster\", \"Wine glasses\", \"Iron\", \"Hot water\", \"Kitchen\", \"Exterior security cameras on property\"]'],\n",
       "      dtype=object)"
      ]
     },
     "execution_count": 32,
     "metadata": {},
     "output_type": "execute_result"
    }
   ],
   "source": [
    "listings_Santiago_df[\"amenities\"].unique()"
   ]
  },
  {
   "cell_type": "markdown",
   "id": "559f4c43",
   "metadata": {},
   "source": [
    "#### Other "
   ]
  },
  {
   "cell_type": "code",
   "execution_count": 30,
   "id": "35a2314f-25d7-4cf8-bc4f-48da44610479",
   "metadata": {},
   "outputs": [
    {
     "data": {
      "text/plain": [
       "count    13053.000000\n",
       "mean         2.930284\n",
       "std          1.843821\n",
       "min          1.000000\n",
       "5%           1.000000\n",
       "25%          2.000000\n",
       "50%          2.000000\n",
       "75%          4.000000\n",
       "95%          6.000000\n",
       "max         16.000000\n",
       "Name: accommodates, dtype: float64"
      ]
     },
     "execution_count": 30,
     "metadata": {},
     "output_type": "execute_result"
    }
   ],
   "source": [
    "# Calculating basic statistics of accommodates\n",
    "listings_Santiago_df[\"accommodates\"].describe(percentiles=[0.05, 0.25, 0.5, 0.75, 0.95])"
   ]
  },
  {
   "cell_type": "code",
   "execution_count": 31,
   "id": "00907541-9b1c-4830-a5a1-af76efee77a5",
   "metadata": {},
   "outputs": [
    {
     "data": {
      "image/png": "[encoded data removed]",
      "text/plain": [
       "<Figure size 2000x500 with 2 Axes>"
      ]
     },
     "metadata": {},
     "output_type": "display_data"
    }
   ],
   "source": [
    "# Plotting bar charts for has availability and instant bookable\n",
    "fig, (ax1, ax2) = plt.subplots(1, 2, sharey=True, figsize=(20, 5))\n",
    "listings_Santiago_df[\"has_availability\"].value_counts().plot(kind=\"bar\", ax=ax1, color=\"orange\")\n",
    "listings_Santiago_df[\"instant_bookable\"].value_counts().sort_index(ascending=False).plot(kind=\"bar\", ax=ax2, color=\"green\")\n",
    "ax1.set_title(\"Has availability frecuency\")\n",
    "ax2.set_title(\"Instant bookable frecuency\")\n",
    "plt.show()"
   ]
  },
  {
   "cell_type": "markdown",
   "id": "0fd7cbf9-44ba-49e6-9166-9de23e45ec2a",
   "metadata": {},
   "source": [
    "### 2. Bivariate analysis"
   ]
  },
  {
   "cell_type": "code",
   "execution_count": null,
   "id": "012035ff-0256-4309-a356-0b30f48a3f83",
   "metadata": {},
   "outputs": [],
   "source": [
    "# Plotting correlation heatmap among review scores\n",
    "plt.figure(figsize=(10, 8))\n",
    "sns.heatmap(\n",
    "    listings_df[[\"review_scores_rating\", \"review_scores_accuracy\", \"review_scores_cleanliness\", \"review_scores_checkin\", \"review_scores_communication\", \"review_scores_location\", \"review_scores_value\"]].corr(),\n",
    "    vmin=0.5, vmax=1,\n",
    "    cmap=\"Blues\"\n",
    ")\n",
    "plt.title(\"Correlation among review scores\")\n",
    "plt.show()"
   ]
  },
  {
   "cell_type": "code",
   "execution_count": null,
   "id": "6c18b3ff-477e-4377-84d5-bf24561bf5b0",
   "metadata": {},
   "outputs": [],
   "source": [
    "# For large datasets, some visualizations are innefective when trying to represent individual instances\n",
    "# A naive strategy is to use only a random sample to visualize\n",
    "listings_sample_df =  listings_df.loc[listings_df[\"price_float\"] <= (q3 + 1.5 * iqr)].sample(frac=0.1)\n",
    "listings_sample_df.shape"
   ]
  },
  {
   "cell_type": "code",
   "execution_count": null,
   "id": "8a0aa277-64e2-4514-a790-5ef33b08c60c",
   "metadata": {},
   "outputs": [],
   "source": [
    "# Plotting the relationship between price and review score value\n",
    "plt.figure(figsize=(10, 8))\n",
    "sns.scatterplot(\n",
    "    x=listings_sample_df[\"price_float\"],\n",
    "    y=listings_sample_df[\"review_scores_value\"]\n",
    ")\n",
    "plt.title(\"Relationship between price and review score value\")\n",
    "plt.grid()\n",
    "plt.show()"
   ]
  },
  {
   "cell_type": "code",
   "execution_count": null,
   "id": "61cc79c7-320d-4440-8037-41e9199d63e1",
   "metadata": {},
   "outputs": [],
   "source": [
    "# Another common strategy for working with datasets with high variability is by filtering the dataset by representative groups according to the context\n",
    "# In this sense, let's work only with the neighbourhoods with more listings (pareto analysis)\n",
    "neighbourhood_frec_cumsum = listings_df[\"neighbourhood_cleansed\"].value_counts(normalize=True).cumsum()"
   ]
  },
  {
   "cell_type": "code",
   "execution_count": null,
   "id": "378c7a38-340b-4d27-93dc-3543e968a3bf",
   "metadata": {},
   "outputs": [],
   "source": [
    "# Plotting pareto analysis for neighbourhood frecuency\n",
    "plt.figure(figsize=(20, 8))\n",
    "neighbourhood_frec_cumsum.plot(kind=\"bar\", color=\"steelblue\")\n",
    "plt.title(\"Pareto analysis for neighbourhood frecuency\")\n",
    "plt.grid(axis=\"y\")\n",
    "plt.show()"
   ]
  },
  {
   "cell_type": "code",
   "execution_count": null,
   "id": "33438d16-edd6-409e-b826-03f0fae9a365",
   "metadata": {},
   "outputs": [],
   "source": [
    "most_representative_neighbourhoods = neighbourhood_frec_cumsum.loc[neighbourhood_frec_cumsum < 0.8].index.tolist()\n",
    "most_representative_neighbourhoods"
   ]
  },
  {
   "cell_type": "code",
   "execution_count": null,
   "id": "b5a80f27-e24c-44f6-ab63-60d26a3e6f2e",
   "metadata": {},
   "outputs": [],
   "source": [
    "# Plotting price distribution by neighborhood\n",
    "fig, ax = plt.subplots(1, 1, figsize=(20, 8))\n",
    "sns.kdeplot(\n",
    "    data=listings_df.loc[listings_df[\"price_float\"] <= (q3 + 1.5 * iqr)].loc[listings_df[\"neighbourhood_cleansed\"].isin(most_representative_neighbourhoods)],\n",
    "    x=\"price_float\",\n",
    "    hue=\"neighbourhood_cleansed\",\n",
    "    bw_adjust=.3,\n",
    "    ax=ax\n",
    ")\n",
    "for (neighbourhood, color) in zip(most_representative_neighbourhoods, [\"steelblue\", \"orange\", \"green\"]):\n",
    "    ax.axvline(listings_df.loc[listings_df[\"price_float\"] <= (q3 + 1.5 * iqr)].loc[listings_df[\"neighbourhood_cleansed\"] == neighbourhood, \"price_float\"].mean(), color=color, linestyle=\"dashed\", linewidth=2, ymax=0.2)\n",
    "plt.title(\"Price distribution by neighbourhood (with means)\")\n",
    "plt.show()"
   ]
  },
  {
   "cell_type": "code",
   "execution_count": null,
   "id": "9ce88223-27ef-4d3d-bd02-2402156c1eb6",
   "metadata": {},
   "outputs": [],
   "source": [
    "# Plotting number of reviews distribution by neighbourhood\n",
    "fig, ax = plt.subplots(1, 1, figsize=(20, 8))\n",
    "sns.kdeplot(\n",
    "    data=listings_df.loc[listings_df[\"price_float\"] <= (q3 + 1.5 * iqr)].loc[listings_df[\"neighbourhood_cleansed\"].isin(most_representative_neighbourhoods)],\n",
    "    x=\"number_of_reviews\",\n",
    "    hue=\"neighbourhood_cleansed\",\n",
    "    bw_adjust=.3,\n",
    "    ax=ax\n",
    ")\n",
    "for (neighbourhood, color) in zip(most_representative_neighbourhoods, [\"steelblue\", \"orange\", \"green\"]):\n",
    "    ax.axvline(listings_df.loc[listings_df[\"price_float\"] <= (q3 + 1.5 * iqr)].loc[listings_df[\"neighbourhood_cleansed\"] == neighbourhood, \"number_of_reviews\"].mean(), color=color, linestyle=\"dashed\", linewidth=2, ymax=0.2)\n",
    "plt.title(\"Price distribution by neighbourhood (with means)\")\n",
    "plt.xlim([0, 200])\n",
    "plt.show()"
   ]
  },
  {
   "cell_type": "code",
   "execution_count": null,
   "id": "450329bb-2b75-4f34-b704-637a632fba27",
   "metadata": {},
   "outputs": [],
   "source": []
  }
 ],
 "metadata": {
  "kernelspec": {
   "display_name": "Python 3 (ipykernel)",
   "language": "python",
   "name": "python3"
  },
  "language_info": {
   "codemirror_mode": {
    "name": "ipython",
    "version": 3
   },
   "file_extension": ".py",
   "mimetype": "text/x-python",
   "name": "python",
   "nbconvert_exporter": "python",
   "pygments_lexer": "ipython3",
   "version": "3.12.1"
  }
 },
 "nbformat": 4,
 "nbformat_minor": 5
}
