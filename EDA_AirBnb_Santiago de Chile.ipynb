{
 "cells": [
  {
   "cell_type": "markdown",
   "id": "65642d56-c596-4f2b-9bb1-90e2c403b899",
   "metadata": {},
   "source": [
    "<a href=\"https://colab.research.google.com/github/datascience-uniandes/data-analysis-tutorial/blob/master/airbnb/eda.ipynb\" target=\"_parent\"><img src=\"https://colab.research.google.com/assets/colab-badge.svg\" alt=\"Open In Colab\"/></a>"
   ]
  },
  {
   "cell_type": "markdown",
   "id": "5ed0788a-edef-4304-a544-c35aed7bb02c",
   "metadata": {},
   "source": [
    "# Exploratory Data Analysis (EDA)\n",
    "\n",
    "MINE-4101: Applied Data Science  \n",
    "Univerisdad de los Andes\n",
    "Lizeth Viviana Perdomo Castañeda  \n",
    "  \n",
    "**Dataset:** AirBnb Listings - Santiago, Región Metropolitana de Santiago, Chile [[dataset](http://insideairbnb.com/get-the-data/) | [dictionary](https://docs.google.com/spreadsheets/d/1iWCNJcSutYqpULSQHlNyGInUvHg2BoUGoNRIGa6Szc4/edit?usp=sharing)]. This dataset comprises information about Airbnb property listings in Santiago de Chile. It includes data points like neighborhood, property type, price per night, number of reviews, review scores, availability, amenities, and more.\n",
    "\n",
    "**Business Context:** Property Investment and Vacation Rental Strategy. You're a consultant for individuals and firms looking to invest in properties for Airbnb rentals. They want to identify the most lucrative neighborhoods, optimal pricing strategies, and understand the factors that contribute to positive reviews and frequent bookings.\n",
    "\n",
    "Last update: August, 2024"
   ]
  },
  {
   "cell_type": "code",
   "execution_count": 1,
   "id": "cc428e33",
   "metadata": {},
   "outputs": [],
   "source": [
    "import pip"
   ]
  },
  {
   "cell_type": "code",
   "execution_count": 2,
   "id": "0ea2c546",
   "metadata": {},
   "outputs": [
    {
     "name": "stderr",
     "output_type": "stream",
     "text": [
      "WARNING: pip is being invoked by an old script wrapper. This will fail in a future version of pip.\n",
      "Please see https://github.com/pypa/pip/issues/5599 for advice on fixing the underlying issue.\n",
      "To avoid this problem you can invoke Python with '-m pip' instead of running pip directly.\n"
     ]
    },
    {
     "data": {
      "text/html": [
       "<pre style=\"white-space:pre;overflow-x:auto;line-height:normal;font-family:Menlo,'DejaVu Sans Mono',consolas,'Courier New',monospace\">Requirement already satisfied: seaborn in c:\\users\\lperd\\appdata\\local\\programs\\python\\python312\\lib\\site-packages (0.13.2)\n",
       "</pre>\n"
      ],
      "text/plain": [
       "Requirement already satisfied: seaborn in c:\\users\\lperd\\appdata\\local\\programs\\python\\python312\\lib\\site-packages (0.13.2)\n"
      ]
     },
     "metadata": {},
     "output_type": "display_data"
    },
    {
     "data": {
      "text/html": [
       "<pre style=\"white-space:pre;overflow-x:auto;line-height:normal;font-family:Menlo,'DejaVu Sans Mono',consolas,'Courier New',monospace\">Requirement already satisfied: numpy!=1.24.0,&gt;=1.20 in c:\\users\\lperd\\appdata\\local\\programs\\python\\python312\\lib\\site-packages (from seaborn) (2.1.0)\n",
       "</pre>\n"
      ],
      "text/plain": [
       "Requirement already satisfied: numpy!=1.24.0,>=1.20 in c:\\users\\lperd\\appdata\\local\\programs\\python\\python312\\lib\\site-packages (from seaborn) (2.1.0)\n"
      ]
     },
     "metadata": {},
     "output_type": "display_data"
    },
    {
     "data": {
      "text/html": [
       "<pre style=\"white-space:pre;overflow-x:auto;line-height:normal;font-family:Menlo,'DejaVu Sans Mono',consolas,'Courier New',monospace\">Requirement already satisfied: pandas&gt;=1.2 in c:\\users\\lperd\\appdata\\local\\programs\\python\\python312\\lib\\site-packages (from seaborn) (2.2.2)\n",
       "</pre>\n"
      ],
      "text/plain": [
       "Requirement already satisfied: pandas>=1.2 in c:\\users\\lperd\\appdata\\local\\programs\\python\\python312\\lib\\site-packages (from seaborn) (2.2.2)\n"
      ]
     },
     "metadata": {},
     "output_type": "display_data"
    },
    {
     "data": {
      "text/html": [
       "<pre style=\"white-space:pre;overflow-x:auto;line-height:normal;font-family:Menlo,'DejaVu Sans Mono',consolas,'Courier New',monospace\">Requirement already satisfied: matplotlib!=3.6.1,&gt;=3.4 in c:\\users\\lperd\\appdata\\local\\programs\\python\\python312\\lib\\site-packages (from seaborn) (3.9.2)\n",
       "</pre>\n"
      ],
      "text/plain": [
       "Requirement already satisfied: matplotlib!=3.6.1,>=3.4 in c:\\users\\lperd\\appdata\\local\\programs\\python\\python312\\lib\\site-packages (from seaborn) (3.9.2)\n"
      ]
     },
     "metadata": {},
     "output_type": "display_data"
    },
    {
     "data": {
      "text/html": [
       "<pre style=\"white-space:pre;overflow-x:auto;line-height:normal;font-family:Menlo,'DejaVu Sans Mono',consolas,'Courier New',monospace\">Requirement already satisfied: contourpy&gt;=1.0.1 in c:\\users\\lperd\\appdata\\local\\programs\\python\\python312\\lib\\site-packages (from matplotlib!=3.6.1,&gt;=3.4-&gt;seaborn) (1.2.1)\n",
       "</pre>\n"
      ],
      "text/plain": [
       "Requirement already satisfied: contourpy>=1.0.1 in c:\\users\\lperd\\appdata\\local\\programs\\python\\python312\\lib\\site-packages (from matplotlib!=3.6.1,>=3.4->seaborn) (1.2.1)\n"
      ]
     },
     "metadata": {},
     "output_type": "display_data"
    },
    {
     "data": {
      "text/html": [
       "<pre style=\"white-space:pre;overflow-x:auto;line-height:normal;font-family:Menlo,'DejaVu Sans Mono',consolas,'Courier New',monospace\">Requirement already satisfied: cycler&gt;=0.10 in c:\\users\\lperd\\appdata\\local\\programs\\python\\python312\\lib\\site-packages (from matplotlib!=3.6.1,&gt;=3.4-&gt;seaborn) (0.12.1)\n",
       "</pre>\n"
      ],
      "text/plain": [
       "Requirement already satisfied: cycler>=0.10 in c:\\users\\lperd\\appdata\\local\\programs\\python\\python312\\lib\\site-packages (from matplotlib!=3.6.1,>=3.4->seaborn) (0.12.1)\n"
      ]
     },
     "metadata": {},
     "output_type": "display_data"
    },
    {
     "data": {
      "text/html": [
       "<pre style=\"white-space:pre;overflow-x:auto;line-height:normal;font-family:Menlo,'DejaVu Sans Mono',consolas,'Courier New',monospace\">Requirement already satisfied: fonttools&gt;=4.22.0 in c:\\users\\lperd\\appdata\\local\\programs\\python\\python312\\lib\\site-packages (from matplotlib!=3.6.1,&gt;=3.4-&gt;seaborn) (4.53.1)\n",
       "</pre>\n"
      ],
      "text/plain": [
       "Requirement already satisfied: fonttools>=4.22.0 in c:\\users\\lperd\\appdata\\local\\programs\\python\\python312\\lib\\site-packages (from matplotlib!=3.6.1,>=3.4->seaborn) (4.53.1)\n"
      ]
     },
     "metadata": {},
     "output_type": "display_data"
    },
    {
     "data": {
      "text/html": [
       "<pre style=\"white-space:pre;overflow-x:auto;line-height:normal;font-family:Menlo,'DejaVu Sans Mono',consolas,'Courier New',monospace\">Requirement already satisfied: kiwisolver&gt;=1.3.1 in c:\\users\\lperd\\appdata\\local\\programs\\python\\python312\\lib\\site-packages (from matplotlib!=3.6.1,&gt;=3.4-&gt;seaborn) (1.4.5)\n",
       "</pre>\n"
      ],
      "text/plain": [
       "Requirement already satisfied: kiwisolver>=1.3.1 in c:\\users\\lperd\\appdata\\local\\programs\\python\\python312\\lib\\site-packages (from matplotlib!=3.6.1,>=3.4->seaborn) (1.4.5)\n"
      ]
     },
     "metadata": {},
     "output_type": "display_data"
    },
    {
     "data": {
      "text/html": [
       "<pre style=\"white-space:pre;overflow-x:auto;line-height:normal;font-family:Menlo,'DejaVu Sans Mono',consolas,'Courier New',monospace\">Requirement already satisfied: packaging&gt;=20.0 in c:\\users\\lperd\\appdata\\roaming\\python\\python312\\site-packages (from matplotlib!=3.6.1,&gt;=3.4-&gt;seaborn) (24.1)\n",
       "</pre>\n"
      ],
      "text/plain": [
       "Requirement already satisfied: packaging>=20.0 in c:\\users\\lperd\\appdata\\roaming\\python\\python312\\site-packages (from matplotlib!=3.6.1,>=3.4->seaborn) (24.1)\n"
      ]
     },
     "metadata": {},
     "output_type": "display_data"
    },
    {
     "data": {
      "text/html": [
       "<pre style=\"white-space:pre;overflow-x:auto;line-height:normal;font-family:Menlo,'DejaVu Sans Mono',consolas,'Courier New',monospace\">Requirement already satisfied: pillow&gt;=8 in c:\\users\\lperd\\appdata\\local\\programs\\python\\python312\\lib\\site-packages (from matplotlib!=3.6.1,&gt;=3.4-&gt;seaborn) (10.4.0)\n",
       "</pre>\n"
      ],
      "text/plain": [
       "Requirement already satisfied: pillow>=8 in c:\\users\\lperd\\appdata\\local\\programs\\python\\python312\\lib\\site-packages (from matplotlib!=3.6.1,>=3.4->seaborn) (10.4.0)\n"
      ]
     },
     "metadata": {},
     "output_type": "display_data"
    },
    {
     "data": {
      "text/html": [
       "<pre style=\"white-space:pre;overflow-x:auto;line-height:normal;font-family:Menlo,'DejaVu Sans Mono',consolas,'Courier New',monospace\">Requirement already satisfied: pyparsing&gt;=2.3.1 in c:\\users\\lperd\\appdata\\local\\programs\\python\\python312\\lib\\site-packages (from matplotlib!=3.6.1,&gt;=3.4-&gt;seaborn) (3.1.2)\n",
       "</pre>\n"
      ],
      "text/plain": [
       "Requirement already satisfied: pyparsing>=2.3.1 in c:\\users\\lperd\\appdata\\local\\programs\\python\\python312\\lib\\site-packages (from matplotlib!=3.6.1,>=3.4->seaborn) (3.1.2)\n"
      ]
     },
     "metadata": {},
     "output_type": "display_data"
    },
    {
     "data": {
      "text/html": [
       "<pre style=\"white-space:pre;overflow-x:auto;line-height:normal;font-family:Menlo,'DejaVu Sans Mono',consolas,'Courier New',monospace\">Requirement already satisfied: python-dateutil&gt;=2.7 in c:\\users\\lperd\\appdata\\roaming\\python\\python312\\site-packages (from matplotlib!=3.6.1,&gt;=3.4-&gt;seaborn) (2.9.0.post0)\n",
       "</pre>\n"
      ],
      "text/plain": [
       "Requirement already satisfied: python-dateutil>=2.7 in c:\\users\\lperd\\appdata\\roaming\\python\\python312\\site-packages (from matplotlib!=3.6.1,>=3.4->seaborn) (2.9.0.post0)\n"
      ]
     },
     "metadata": {},
     "output_type": "display_data"
    },
    {
     "data": {
      "text/html": [
       "<pre style=\"white-space:pre;overflow-x:auto;line-height:normal;font-family:Menlo,'DejaVu Sans Mono',consolas,'Courier New',monospace\">Requirement already satisfied: pytz&gt;=2020.1 in c:\\users\\lperd\\appdata\\local\\programs\\python\\python312\\lib\\site-packages (from pandas&gt;=1.2-&gt;seaborn) (2024.1)\n",
       "</pre>\n"
      ],
      "text/plain": [
       "Requirement already satisfied: pytz>=2020.1 in c:\\users\\lperd\\appdata\\local\\programs\\python\\python312\\lib\\site-packages (from pandas>=1.2->seaborn) (2024.1)\n"
      ]
     },
     "metadata": {},
     "output_type": "display_data"
    },
    {
     "data": {
      "text/html": [
       "<pre style=\"white-space:pre;overflow-x:auto;line-height:normal;font-family:Menlo,'DejaVu Sans Mono',consolas,'Courier New',monospace\">Requirement already satisfied: tzdata&gt;=2022.7 in c:\\users\\lperd\\appdata\\local\\programs\\python\\python312\\lib\\site-packages (from pandas&gt;=1.2-&gt;seaborn) (2024.1)\n",
       "</pre>\n"
      ],
      "text/plain": [
       "Requirement already satisfied: tzdata>=2022.7 in c:\\users\\lperd\\appdata\\local\\programs\\python\\python312\\lib\\site-packages (from pandas>=1.2->seaborn) (2024.1)\n"
      ]
     },
     "metadata": {},
     "output_type": "display_data"
    },
    {
     "data": {
      "text/html": [
       "<pre style=\"white-space:pre;overflow-x:auto;line-height:normal;font-family:Menlo,'DejaVu Sans Mono',consolas,'Courier New',monospace\">Requirement already satisfied: six&gt;=1.5 in c:\\users\\lperd\\appdata\\roaming\\python\\python312\\site-packages (from python-dateutil&gt;=2.7-&gt;matplotlib!=3.6.1,&gt;=3.4-&gt;seaborn) (1.16.0)\n",
       "</pre>\n"
      ],
      "text/plain": [
       "Requirement already satisfied: six>=1.5 in c:\\users\\lperd\\appdata\\roaming\\python\\python312\\site-packages (from python-dateutil>=2.7->matplotlib!=3.6.1,>=3.4->seaborn) (1.16.0)\n"
      ]
     },
     "metadata": {},
     "output_type": "display_data"
    },
    {
     "data": {
      "text/html": [
       "<pre style=\"white-space:pre;overflow-x:auto;line-height:normal;font-family:Menlo,'DejaVu Sans Mono',consolas,'Courier New',monospace\">\n",
       "<span style=\"font-weight: bold\">[</span><span style=\"color: #000080; text-decoration-color: #000080; background-color: #ffffff\">notice</span><span style=\"color: #000000; text-decoration-color: #000000; background-color: #ffffff; font-weight: bold\">]</span><span style=\"color: #000000; text-decoration-color: #000000; background-color: #ffffff\"> A new release of pip is available: </span><span style=\"color: #800000; text-decoration-color: #800000; background-color: #ffffff\">23.2.1</span><span style=\"color: #000000; text-decoration-color: #000000; background-color: #ffffff\"> -&gt; </span><span style=\"color: #008000; text-decoration-color: #008000; background-color: #ffffff\">24.2</span>\n",
       "<span style=\"font-weight: bold\">[</span><span style=\"color: #000080; text-decoration-color: #000080; background-color: #ffffff\">notice</span><span style=\"color: #000000; text-decoration-color: #000000; background-color: #ffffff; font-weight: bold\">]</span><span style=\"color: #000000; text-decoration-color: #000000; background-color: #ffffff\"> To update, run: </span><span style=\"color: #008000; text-decoration-color: #008000; background-color: #ffffff\">python.exe -m pip install --upgrade pip</span>\n",
       "</pre>\n"
      ],
      "text/plain": [
       "\n",
       "\u001b[1m[\u001b[0m\u001b[34;49mnotice\u001b[0m\u001b[1;39;49m]\u001b[0m\u001b[39;49m A new release of pip is available: \u001b[0m\u001b[31;49m23.2.1\u001b[0m\u001b[39;49m -> \u001b[0m\u001b[32;49m24.2\u001b[0m\n",
       "\u001b[1m[\u001b[0m\u001b[34;49mnotice\u001b[0m\u001b[1;39;49m]\u001b[0m\u001b[39;49m To update, run: \u001b[0m\u001b[32;49mpython.exe -m pip install --upgrade pip\u001b[0m\n"
      ]
     },
     "metadata": {},
     "output_type": "display_data"
    },
    {
     "data": {
      "text/plain": [
       "0"
      ]
     },
     "execution_count": 2,
     "metadata": {},
     "output_type": "execute_result"
    }
   ],
   "source": [
    "pip.main([\"install\",\"seaborn\"])"
   ]
  },
  {
   "cell_type": "code",
   "execution_count": 3,
   "id": "fa878881-66df-4d8e-b792-1d65470a8dc5",
   "metadata": {},
   "outputs": [],
   "source": [
    "import pandas as pd\n",
    "\n",
    "import matplotlib.pyplot as plt\n",
    "import seaborn as sns"
   ]
  },
  {
   "cell_type": "code",
   "execution_count": 4,
   "id": "934e72ec-a2c1-45ec-a6fc-a4acb80950d8",
   "metadata": {},
   "outputs": [],
   "source": [
    "# Pandas configuration for extending the number of columns and rows to show\n",
    "pd.set_option(\"display.max_columns\", None)\n",
    "pd.set_option(\"display.max_rows\", 100)"
   ]
  },
  {
   "cell_type": "markdown",
   "id": "8877beda-27b4-4c17-9d6b-6328db41ac08",
   "metadata": {},
   "source": [
    "### 1. Load the data"
   ]
  },
  {
   "cell_type": "code",
   "execution_count": 5,
   "id": "7840e83b-2f32-438f-a8d2-20ef259cf3ac",
   "metadata": {},
   "outputs": [],
   "source": [
    "# Loading the CSV file as dataframe\n",
    "listings_Santiago_df = pd.read_csv(\"./listings.csv.gz\")"
   ]
  },
  {
   "cell_type": "code",
   "execution_count": 6,
   "id": "7fdc067c-1aff-4859-b40e-183cc292dfcd",
   "metadata": {},
   "outputs": [
    {
     "data": {
      "text/plain": [
       "(13053, 75)"
      ]
     },
     "execution_count": 6,
     "metadata": {},
     "output_type": "execute_result"
    }
   ],
   "source": [
    "# Showing dataframe dimensions\n",
    "listings_Santiago_df.shape"
   ]
  },
  {
   "cell_type": "code",
   "execution_count": 7,
   "id": "666da89f-03fa-434d-a366-7fc2e399a731",
   "metadata": {},
   "outputs": [
    {
     "data": {
      "text/plain": [
       "id                                                int64\n",
       "listing_url                                      object\n",
       "scrape_id                                         int64\n",
       "last_scraped                                     object\n",
       "source                                           object\n",
       "name                                             object\n",
       "description                                      object\n",
       "neighborhood_overview                            object\n",
       "picture_url                                      object\n",
       "host_id                                           int64\n",
       "host_url                                         object\n",
       "host_name                                        object\n",
       "host_since                                       object\n",
       "host_location                                    object\n",
       "host_about                                       object\n",
       "host_response_time                               object\n",
       "host_response_rate                               object\n",
       "host_acceptance_rate                             object\n",
       "host_is_superhost                                object\n",
       "host_thumbnail_url                               object\n",
       "host_picture_url                                 object\n",
       "host_neighbourhood                               object\n",
       "host_listings_count                               int64\n",
       "host_total_listings_count                         int64\n",
       "host_verifications                               object\n",
       "host_has_profile_pic                             object\n",
       "host_identity_verified                           object\n",
       "neighbourhood                                    object\n",
       "neighbourhood_cleansed                           object\n",
       "neighbourhood_group_cleansed                    float64\n",
       "latitude                                        float64\n",
       "longitude                                       float64\n",
       "property_type                                    object\n",
       "room_type                                        object\n",
       "accommodates                                      int64\n",
       "bathrooms                                       float64\n",
       "bathrooms_text                                   object\n",
       "bedrooms                                        float64\n",
       "beds                                            float64\n",
       "amenities                                        object\n",
       "price                                            object\n",
       "minimum_nights                                    int64\n",
       "maximum_nights                                    int64\n",
       "minimum_minimum_nights                            int64\n",
       "maximum_minimum_nights                            int64\n",
       "minimum_maximum_nights                            int64\n",
       "maximum_maximum_nights                            int64\n",
       "minimum_nights_avg_ntm                          float64\n",
       "maximum_nights_avg_ntm                          float64\n",
       "calendar_updated                                float64\n",
       "has_availability                                 object\n",
       "availability_30                                   int64\n",
       "availability_60                                   int64\n",
       "availability_90                                   int64\n",
       "availability_365                                  int64\n",
       "calendar_last_scraped                            object\n",
       "number_of_reviews                                 int64\n",
       "number_of_reviews_ltm                             int64\n",
       "number_of_reviews_l30d                            int64\n",
       "first_review                                     object\n",
       "last_review                                      object\n",
       "review_scores_rating                            float64\n",
       "review_scores_accuracy                          float64\n",
       "review_scores_cleanliness                       float64\n",
       "review_scores_checkin                           float64\n",
       "review_scores_communication                     float64\n",
       "review_scores_location                          float64\n",
       "review_scores_value                             float64\n",
       "license                                          object\n",
       "instant_bookable                                 object\n",
       "calculated_host_listings_count                    int64\n",
       "calculated_host_listings_count_entire_homes       int64\n",
       "calculated_host_listings_count_private_rooms      int64\n",
       "calculated_host_listings_count_shared_rooms       int64\n",
       "reviews_per_month                               float64\n",
       "dtype: object"
      ]
     },
     "execution_count": 7,
     "metadata": {},
     "output_type": "execute_result"
    }
   ],
   "source": [
    "# Showing column types\n",
    "listings_Santiago_df.dtypes"
   ]
  },
  {
   "cell_type": "code",
   "execution_count": 8,
   "id": "bd41edc2-6d04-4d10-a77d-2ed0f962b657",
   "metadata": {},
   "outputs": [
    {
     "data": {
      "text/html": [
       "<div>\n",
       "<style scoped>\n",
       "    .dataframe tbody tr th:only-of-type {\n",
       "        vertical-align: middle;\n",
       "    }\n",
       "\n",
       "    .dataframe tbody tr th {\n",
       "        vertical-align: top;\n",
       "    }\n",
       "\n",
       "    .dataframe thead th {\n",
       "        text-align: right;\n",
       "    }\n",
       "</style>\n",
       "<table border=\"1\" class=\"dataframe\">\n",
       "  <thead>\n",
       "    <tr style=\"text-align: right;\">\n",
       "      <th></th>\n",
       "      <th>id</th>\n",
       "      <th>listing_url</th>\n",
       "      <th>scrape_id</th>\n",
       "      <th>last_scraped</th>\n",
       "      <th>source</th>\n",
       "      <th>name</th>\n",
       "      <th>description</th>\n",
       "      <th>neighborhood_overview</th>\n",
       "      <th>picture_url</th>\n",
       "      <th>host_id</th>\n",
       "      <th>host_url</th>\n",
       "      <th>host_name</th>\n",
       "      <th>host_since</th>\n",
       "      <th>host_location</th>\n",
       "      <th>host_about</th>\n",
       "      <th>host_response_time</th>\n",
       "      <th>host_response_rate</th>\n",
       "      <th>host_acceptance_rate</th>\n",
       "      <th>host_is_superhost</th>\n",
       "      <th>host_thumbnail_url</th>\n",
       "      <th>host_picture_url</th>\n",
       "      <th>host_neighbourhood</th>\n",
       "      <th>host_listings_count</th>\n",
       "      <th>host_total_listings_count</th>\n",
       "      <th>host_verifications</th>\n",
       "      <th>host_has_profile_pic</th>\n",
       "      <th>host_identity_verified</th>\n",
       "      <th>neighbourhood</th>\n",
       "      <th>neighbourhood_cleansed</th>\n",
       "      <th>neighbourhood_group_cleansed</th>\n",
       "      <th>latitude</th>\n",
       "      <th>longitude</th>\n",
       "      <th>property_type</th>\n",
       "      <th>room_type</th>\n",
       "      <th>accommodates</th>\n",
       "      <th>bathrooms</th>\n",
       "      <th>bathrooms_text</th>\n",
       "      <th>bedrooms</th>\n",
       "      <th>beds</th>\n",
       "      <th>amenities</th>\n",
       "      <th>price</th>\n",
       "      <th>minimum_nights</th>\n",
       "      <th>maximum_nights</th>\n",
       "      <th>minimum_minimum_nights</th>\n",
       "      <th>maximum_minimum_nights</th>\n",
       "      <th>minimum_maximum_nights</th>\n",
       "      <th>maximum_maximum_nights</th>\n",
       "      <th>minimum_nights_avg_ntm</th>\n",
       "      <th>maximum_nights_avg_ntm</th>\n",
       "      <th>calendar_updated</th>\n",
       "      <th>has_availability</th>\n",
       "      <th>availability_30</th>\n",
       "      <th>availability_60</th>\n",
       "      <th>availability_90</th>\n",
       "      <th>availability_365</th>\n",
       "      <th>calendar_last_scraped</th>\n",
       "      <th>number_of_reviews</th>\n",
       "      <th>number_of_reviews_ltm</th>\n",
       "      <th>number_of_reviews_l30d</th>\n",
       "      <th>first_review</th>\n",
       "      <th>last_review</th>\n",
       "      <th>review_scores_rating</th>\n",
       "      <th>review_scores_accuracy</th>\n",
       "      <th>review_scores_cleanliness</th>\n",
       "      <th>review_scores_checkin</th>\n",
       "      <th>review_scores_communication</th>\n",
       "      <th>review_scores_location</th>\n",
       "      <th>review_scores_value</th>\n",
       "      <th>license</th>\n",
       "      <th>instant_bookable</th>\n",
       "      <th>calculated_host_listings_count</th>\n",
       "      <th>calculated_host_listings_count_entire_homes</th>\n",
       "      <th>calculated_host_listings_count_private_rooms</th>\n",
       "      <th>calculated_host_listings_count_shared_rooms</th>\n",
       "      <th>reviews_per_month</th>\n",
       "    </tr>\n",
       "  </thead>\n",
       "  <tbody>\n",
       "    <tr>\n",
       "      <th>2381</th>\n",
       "      <td>25416390</td>\n",
       "      <td>https://www.airbnb.com/rooms/25416390</td>\n",
       "      <td>20240629050059</td>\n",
       "      <td>2024-06-29</td>\n",
       "      <td>city scrape</td>\n",
       "      <td>Estudio en Valle Nevado Ski Resort</td>\n",
       "      <td>Magnificent studio in the newest building in V...</td>\n",
       "      <td>Best ski slopes in sudamerica ski out, restaur...</td>\n",
       "      <td>https://a0.muscache.com/pictures/0f4ff7a2-9a73...</td>\n",
       "      <td>56324000</td>\n",
       "      <td>https://www.airbnb.com/users/show/56324000</td>\n",
       "      <td>Carlos</td>\n",
       "      <td>2016-01-27</td>\n",
       "      <td>Las Condes, Chile</td>\n",
       "      <td>Me encanta viajar y por lo mismo se lo importa...</td>\n",
       "      <td>within an hour</td>\n",
       "      <td>100%</td>\n",
       "      <td>100%</td>\n",
       "      <td>f</td>\n",
       "      <td>https://a0.muscache.com/im/pictures/user/04e69...</td>\n",
       "      <td>https://a0.muscache.com/im/pictures/user/04e69...</td>\n",
       "      <td>NaN</td>\n",
       "      <td>1</td>\n",
       "      <td>1</td>\n",
       "      <td>['email', 'phone']</td>\n",
       "      <td>t</td>\n",
       "      <td>t</td>\n",
       "      <td>Farellones, Región Metropolitana, Chile</td>\n",
       "      <td>Lo Barnechea</td>\n",
       "      <td>NaN</td>\n",
       "      <td>-33.35292</td>\n",
       "      <td>-70.24881</td>\n",
       "      <td>Entire rental unit</td>\n",
       "      <td>Entire home/apt</td>\n",
       "      <td>3</td>\n",
       "      <td>1.0</td>\n",
       "      <td>1 bath</td>\n",
       "      <td>1.0</td>\n",
       "      <td>2.0</td>\n",
       "      <td>[\"Resort access\", \"Hot water kettle\", \"Freezer...</td>\n",
       "      <td>$260,000.00</td>\n",
       "      <td>4</td>\n",
       "      <td>1125</td>\n",
       "      <td>3</td>\n",
       "      <td>4</td>\n",
       "      <td>1125</td>\n",
       "      <td>1125</td>\n",
       "      <td>3.7</td>\n",
       "      <td>1125.0</td>\n",
       "      <td>NaN</td>\n",
       "      <td>t</td>\n",
       "      <td>5</td>\n",
       "      <td>15</td>\n",
       "      <td>42</td>\n",
       "      <td>317</td>\n",
       "      <td>2024-06-29</td>\n",
       "      <td>23</td>\n",
       "      <td>7</td>\n",
       "      <td>0</td>\n",
       "      <td>2018-07-20</td>\n",
       "      <td>2023-09-22</td>\n",
       "      <td>4.96</td>\n",
       "      <td>4.96</td>\n",
       "      <td>4.96</td>\n",
       "      <td>5.00</td>\n",
       "      <td>5.00</td>\n",
       "      <td>4.91</td>\n",
       "      <td>4.43</td>\n",
       "      <td>NaN</td>\n",
       "      <td>f</td>\n",
       "      <td>1</td>\n",
       "      <td>1</td>\n",
       "      <td>0</td>\n",
       "      <td>0</td>\n",
       "      <td>0.32</td>\n",
       "    </tr>\n",
       "    <tr>\n",
       "      <th>6116</th>\n",
       "      <td>677538361037515074</td>\n",
       "      <td>https://www.airbnb.com/rooms/677538361037515074</td>\n",
       "      <td>20240629050059</td>\n",
       "      <td>2024-06-29</td>\n",
       "      <td>city scrape</td>\n",
       "      <td>Habitación cerca metro Manquehue</td>\n",
       "      <td>Enjoy the simplicity of this quiet and central...</td>\n",
       "      <td>Residential neighborhood next to mall and metro</td>\n",
       "      <td>https://a0.muscache.com/pictures/miso/Hosting-...</td>\n",
       "      <td>471142764</td>\n",
       "      <td>https://www.airbnb.com/users/show/471142764</td>\n",
       "      <td>Melisa</td>\n",
       "      <td>2022-07-23</td>\n",
       "      <td>NaN</td>\n",
       "      <td>Mi nombre es Melisa, tengo dos hijos adolescen...</td>\n",
       "      <td>within a few hours</td>\n",
       "      <td>100%</td>\n",
       "      <td>0%</td>\n",
       "      <td>f</td>\n",
       "      <td>https://a0.muscache.com/im/pictures/user/78709...</td>\n",
       "      <td>https://a0.muscache.com/im/pictures/user/78709...</td>\n",
       "      <td>NaN</td>\n",
       "      <td>1</td>\n",
       "      <td>1</td>\n",
       "      <td>['email', 'phone']</td>\n",
       "      <td>t</td>\n",
       "      <td>t</td>\n",
       "      <td>Las Condes, Región Metropolitana, Chile</td>\n",
       "      <td>Las Condes</td>\n",
       "      <td>NaN</td>\n",
       "      <td>-33.41674</td>\n",
       "      <td>-70.57165</td>\n",
       "      <td>Private room in rental unit</td>\n",
       "      <td>Private room</td>\n",
       "      <td>1</td>\n",
       "      <td>1.0</td>\n",
       "      <td>1 shared bath</td>\n",
       "      <td>1.0</td>\n",
       "      <td>1.0</td>\n",
       "      <td>[\"Hot water kettle\", \"Dining table\", \"Freezer\"...</td>\n",
       "      <td>$18,000.00</td>\n",
       "      <td>1</td>\n",
       "      <td>1125</td>\n",
       "      <td>1</td>\n",
       "      <td>1</td>\n",
       "      <td>1125</td>\n",
       "      <td>1125</td>\n",
       "      <td>1.0</td>\n",
       "      <td>1125.0</td>\n",
       "      <td>NaN</td>\n",
       "      <td>t</td>\n",
       "      <td>1</td>\n",
       "      <td>1</td>\n",
       "      <td>1</td>\n",
       "      <td>272</td>\n",
       "      <td>2024-06-29</td>\n",
       "      <td>9</td>\n",
       "      <td>0</td>\n",
       "      <td>0</td>\n",
       "      <td>2022-07-25</td>\n",
       "      <td>2023-02-10</td>\n",
       "      <td>4.11</td>\n",
       "      <td>4.11</td>\n",
       "      <td>3.67</td>\n",
       "      <td>4.78</td>\n",
       "      <td>4.33</td>\n",
       "      <td>4.78</td>\n",
       "      <td>3.89</td>\n",
       "      <td>NaN</td>\n",
       "      <td>f</td>\n",
       "      <td>1</td>\n",
       "      <td>0</td>\n",
       "      <td>1</td>\n",
       "      <td>0</td>\n",
       "      <td>0.38</td>\n",
       "    </tr>\n",
       "    <tr>\n",
       "      <th>7775</th>\n",
       "      <td>853529888138650919</td>\n",
       "      <td>https://www.airbnb.com/rooms/853529888138650919</td>\n",
       "      <td>20240629050059</td>\n",
       "      <td>2024-06-29</td>\n",
       "      <td>city scrape</td>\n",
       "      <td>Pequeña habitación en barrio bohemio, Providen...</td>\n",
       "      <td>A central and safe location in the nearby Prov...</td>\n",
       "      <td>There are bars and restaurants in front of the...</td>\n",
       "      <td>https://a0.muscache.com/pictures/105adf7d-a915...</td>\n",
       "      <td>461358072</td>\n",
       "      <td>https://www.airbnb.com/users/show/461358072</td>\n",
       "      <td>Pedro Juan</td>\n",
       "      <td>2022-05-28</td>\n",
       "      <td>Providencia, Chile</td>\n",
       "      <td>Me llamo Pedro.  Soy artista conceptual y actu...</td>\n",
       "      <td>within an hour</td>\n",
       "      <td>100%</td>\n",
       "      <td>95%</td>\n",
       "      <td>t</td>\n",
       "      <td>https://a0.muscache.com/im/pictures/user/f8f5c...</td>\n",
       "      <td>https://a0.muscache.com/im/pictures/user/f8f5c...</td>\n",
       "      <td>NaN</td>\n",
       "      <td>1</td>\n",
       "      <td>2</td>\n",
       "      <td>['email', 'phone']</td>\n",
       "      <td>t</td>\n",
       "      <td>t</td>\n",
       "      <td>Providencia, Región Metropolitana, Chile</td>\n",
       "      <td>Providencia</td>\n",
       "      <td>NaN</td>\n",
       "      <td>-33.43110</td>\n",
       "      <td>-70.61892</td>\n",
       "      <td>Private room in condo</td>\n",
       "      <td>Private room</td>\n",
       "      <td>1</td>\n",
       "      <td>1.0</td>\n",
       "      <td>1 private bath</td>\n",
       "      <td>1.0</td>\n",
       "      <td>0.0</td>\n",
       "      <td>[\"Hot water kettle\", \"Dining table\", \"Freezer\"...</td>\n",
       "      <td>$20,740.00</td>\n",
       "      <td>1</td>\n",
       "      <td>365</td>\n",
       "      <td>1</td>\n",
       "      <td>1</td>\n",
       "      <td>365</td>\n",
       "      <td>365</td>\n",
       "      <td>1.0</td>\n",
       "      <td>365.0</td>\n",
       "      <td>NaN</td>\n",
       "      <td>t</td>\n",
       "      <td>4</td>\n",
       "      <td>4</td>\n",
       "      <td>32</td>\n",
       "      <td>128</td>\n",
       "      <td>2024-06-29</td>\n",
       "      <td>36</td>\n",
       "      <td>25</td>\n",
       "      <td>3</td>\n",
       "      <td>2023-04-02</td>\n",
       "      <td>2024-06-20</td>\n",
       "      <td>5.00</td>\n",
       "      <td>5.00</td>\n",
       "      <td>4.97</td>\n",
       "      <td>5.00</td>\n",
       "      <td>5.00</td>\n",
       "      <td>5.00</td>\n",
       "      <td>5.00</td>\n",
       "      <td>NaN</td>\n",
       "      <td>f</td>\n",
       "      <td>1</td>\n",
       "      <td>0</td>\n",
       "      <td>1</td>\n",
       "      <td>0</td>\n",
       "      <td>2.37</td>\n",
       "    </tr>\n",
       "    <tr>\n",
       "      <th>3736</th>\n",
       "      <td>38146787</td>\n",
       "      <td>https://www.airbnb.com/rooms/38146787</td>\n",
       "      <td>20240629050059</td>\n",
       "      <td>2024-06-29</td>\n",
       "      <td>previous scrape</td>\n",
       "      <td>Casa Lily - Habitación doble</td>\n",
       "      <td>It is well lit, with square, supermarkets, cen...</td>\n",
       "      <td>Votive Temple of Maipu</td>\n",
       "      <td>https://a0.muscache.com/pictures/a0b26a23-d574...</td>\n",
       "      <td>271107973</td>\n",
       "      <td>https://www.airbnb.com/users/show/271107973</td>\n",
       "      <td>Liliana</td>\n",
       "      <td>2019-06-24</td>\n",
       "      <td>Santiago, Chile</td>\n",
       "      <td>NaN</td>\n",
       "      <td>NaN</td>\n",
       "      <td>NaN</td>\n",
       "      <td>NaN</td>\n",
       "      <td>f</td>\n",
       "      <td>https://a0.muscache.com/im/pictures/user/14e5a...</td>\n",
       "      <td>https://a0.muscache.com/im/pictures/user/14e5a...</td>\n",
       "      <td>NaN</td>\n",
       "      <td>1</td>\n",
       "      <td>2</td>\n",
       "      <td>['email', 'phone']</td>\n",
       "      <td>t</td>\n",
       "      <td>f</td>\n",
       "      <td>Maipú, Región Metropolitana, Chile</td>\n",
       "      <td>Maipú</td>\n",
       "      <td>NaN</td>\n",
       "      <td>-33.52527</td>\n",
       "      <td>-70.76594</td>\n",
       "      <td>Private room in bungalow</td>\n",
       "      <td>Private room</td>\n",
       "      <td>2</td>\n",
       "      <td>NaN</td>\n",
       "      <td>1 shared bath</td>\n",
       "      <td>NaN</td>\n",
       "      <td>NaN</td>\n",
       "      <td>[\"Wifi\", \"Indoor fireplace\", \"TV\", \"Kitchen\", ...</td>\n",
       "      <td>NaN</td>\n",
       "      <td>1</td>\n",
       "      <td>10</td>\n",
       "      <td>1</td>\n",
       "      <td>1</td>\n",
       "      <td>10</td>\n",
       "      <td>10</td>\n",
       "      <td>1.0</td>\n",
       "      <td>10.0</td>\n",
       "      <td>NaN</td>\n",
       "      <td>NaN</td>\n",
       "      <td>0</td>\n",
       "      <td>0</td>\n",
       "      <td>0</td>\n",
       "      <td>0</td>\n",
       "      <td>2024-06-29</td>\n",
       "      <td>7</td>\n",
       "      <td>0</td>\n",
       "      <td>0</td>\n",
       "      <td>2020-12-16</td>\n",
       "      <td>2023-01-29</td>\n",
       "      <td>5.00</td>\n",
       "      <td>5.00</td>\n",
       "      <td>5.00</td>\n",
       "      <td>5.00</td>\n",
       "      <td>5.00</td>\n",
       "      <td>5.00</td>\n",
       "      <td>5.00</td>\n",
       "      <td>NaN</td>\n",
       "      <td>f</td>\n",
       "      <td>1</td>\n",
       "      <td>0</td>\n",
       "      <td>1</td>\n",
       "      <td>0</td>\n",
       "      <td>0.16</td>\n",
       "    </tr>\n",
       "    <tr>\n",
       "      <th>4512</th>\n",
       "      <td>46194392</td>\n",
       "      <td>https://www.airbnb.com/rooms/46194392</td>\n",
       "      <td>20240629050059</td>\n",
       "      <td>2024-06-29</td>\n",
       "      <td>previous scrape</td>\n",
       "      <td>Habitacion doble</td>\n",
       "      <td>Double room with classic and minimalist decora...</td>\n",
       "      <td>NaN</td>\n",
       "      <td>https://a0.muscache.com/pictures/miso/Hosting-...</td>\n",
       "      <td>312594237</td>\n",
       "      <td>https://www.airbnb.com/users/show/312594237</td>\n",
       "      <td>Casona</td>\n",
       "      <td>2019-11-27</td>\n",
       "      <td>Providencia, Chile</td>\n",
       "      <td>Casona, antigua inserta en  la calle Viña de...</td>\n",
       "      <td>within a day</td>\n",
       "      <td>100%</td>\n",
       "      <td>100%</td>\n",
       "      <td>f</td>\n",
       "      <td>https://a0.muscache.com/im/pictures/user/a3685...</td>\n",
       "      <td>https://a0.muscache.com/im/pictures/user/a3685...</td>\n",
       "      <td>NaN</td>\n",
       "      <td>12</td>\n",
       "      <td>13</td>\n",
       "      <td>['email', 'phone']</td>\n",
       "      <td>t</td>\n",
       "      <td>t</td>\n",
       "      <td>NaN</td>\n",
       "      <td>Providencia</td>\n",
       "      <td>NaN</td>\n",
       "      <td>-33.44137</td>\n",
       "      <td>-70.63267</td>\n",
       "      <td>Private room in hostel</td>\n",
       "      <td>Private room</td>\n",
       "      <td>2</td>\n",
       "      <td>NaN</td>\n",
       "      <td>1 private bath</td>\n",
       "      <td>1.0</td>\n",
       "      <td>NaN</td>\n",
       "      <td>[\"Wifi\", \"TV\", \"Essentials\", \"Air conditioning...</td>\n",
       "      <td>NaN</td>\n",
       "      <td>1</td>\n",
       "      <td>1125</td>\n",
       "      <td>1</td>\n",
       "      <td>1</td>\n",
       "      <td>1125</td>\n",
       "      <td>1125</td>\n",
       "      <td>1.0</td>\n",
       "      <td>1125.0</td>\n",
       "      <td>NaN</td>\n",
       "      <td>t</td>\n",
       "      <td>30</td>\n",
       "      <td>60</td>\n",
       "      <td>90</td>\n",
       "      <td>365</td>\n",
       "      <td>2024-06-29</td>\n",
       "      <td>0</td>\n",
       "      <td>0</td>\n",
       "      <td>0</td>\n",
       "      <td>NaN</td>\n",
       "      <td>NaN</td>\n",
       "      <td>NaN</td>\n",
       "      <td>NaN</td>\n",
       "      <td>NaN</td>\n",
       "      <td>NaN</td>\n",
       "      <td>NaN</td>\n",
       "      <td>NaN</td>\n",
       "      <td>NaN</td>\n",
       "      <td>NaN</td>\n",
       "      <td>t</td>\n",
       "      <td>12</td>\n",
       "      <td>0</td>\n",
       "      <td>12</td>\n",
       "      <td>0</td>\n",
       "      <td>NaN</td>\n",
       "    </tr>\n",
       "  </tbody>\n",
       "</table>\n",
       "</div>"
      ],
      "text/plain": [
       "                      id                                      listing_url  \\\n",
       "2381            25416390            https://www.airbnb.com/rooms/25416390   \n",
       "6116  677538361037515074  https://www.airbnb.com/rooms/677538361037515074   \n",
       "7775  853529888138650919  https://www.airbnb.com/rooms/853529888138650919   \n",
       "3736            38146787            https://www.airbnb.com/rooms/38146787   \n",
       "4512            46194392            https://www.airbnb.com/rooms/46194392   \n",
       "\n",
       "           scrape_id last_scraped           source  \\\n",
       "2381  20240629050059   2024-06-29      city scrape   \n",
       "6116  20240629050059   2024-06-29      city scrape   \n",
       "7775  20240629050059   2024-06-29      city scrape   \n",
       "3736  20240629050059   2024-06-29  previous scrape   \n",
       "4512  20240629050059   2024-06-29  previous scrape   \n",
       "\n",
       "                                                   name  \\\n",
       "2381                 Estudio en Valle Nevado Ski Resort   \n",
       "6116                   Habitación cerca metro Manquehue   \n",
       "7775  Pequeña habitación en barrio bohemio, Providen...   \n",
       "3736                       Casa Lily - Habitación doble   \n",
       "4512                                   Habitacion doble   \n",
       "\n",
       "                                            description  \\\n",
       "2381  Magnificent studio in the newest building in V...   \n",
       "6116  Enjoy the simplicity of this quiet and central...   \n",
       "7775  A central and safe location in the nearby Prov...   \n",
       "3736  It is well lit, with square, supermarkets, cen...   \n",
       "4512  Double room with classic and minimalist decora...   \n",
       "\n",
       "                                  neighborhood_overview  \\\n",
       "2381  Best ski slopes in sudamerica ski out, restaur...   \n",
       "6116    Residential neighborhood next to mall and metro   \n",
       "7775  There are bars and restaurants in front of the...   \n",
       "3736                             Votive Temple of Maipu   \n",
       "4512                                                NaN   \n",
       "\n",
       "                                            picture_url    host_id  \\\n",
       "2381  https://a0.muscache.com/pictures/0f4ff7a2-9a73...   56324000   \n",
       "6116  https://a0.muscache.com/pictures/miso/Hosting-...  471142764   \n",
       "7775  https://a0.muscache.com/pictures/105adf7d-a915...  461358072   \n",
       "3736  https://a0.muscache.com/pictures/a0b26a23-d574...  271107973   \n",
       "4512  https://a0.muscache.com/pictures/miso/Hosting-...  312594237   \n",
       "\n",
       "                                         host_url   host_name  host_since  \\\n",
       "2381   https://www.airbnb.com/users/show/56324000      Carlos  2016-01-27   \n",
       "6116  https://www.airbnb.com/users/show/471142764      Melisa  2022-07-23   \n",
       "7775  https://www.airbnb.com/users/show/461358072  Pedro Juan  2022-05-28   \n",
       "3736  https://www.airbnb.com/users/show/271107973     Liliana  2019-06-24   \n",
       "4512  https://www.airbnb.com/users/show/312594237      Casona  2019-11-27   \n",
       "\n",
       "           host_location                                         host_about  \\\n",
       "2381   Las Condes, Chile  Me encanta viajar y por lo mismo se lo importa...   \n",
       "6116                 NaN  Mi nombre es Melisa, tengo dos hijos adolescen...   \n",
       "7775  Providencia, Chile  Me llamo Pedro.  Soy artista conceptual y actu...   \n",
       "3736     Santiago, Chile                                                NaN   \n",
       "4512  Providencia, Chile    Casona, antigua inserta en  la calle Viña de...   \n",
       "\n",
       "      host_response_time host_response_rate host_acceptance_rate  \\\n",
       "2381      within an hour               100%                 100%   \n",
       "6116  within a few hours               100%                   0%   \n",
       "7775      within an hour               100%                  95%   \n",
       "3736                 NaN                NaN                  NaN   \n",
       "4512        within a day               100%                 100%   \n",
       "\n",
       "     host_is_superhost                                 host_thumbnail_url  \\\n",
       "2381                 f  https://a0.muscache.com/im/pictures/user/04e69...   \n",
       "6116                 f  https://a0.muscache.com/im/pictures/user/78709...   \n",
       "7775                 t  https://a0.muscache.com/im/pictures/user/f8f5c...   \n",
       "3736                 f  https://a0.muscache.com/im/pictures/user/14e5a...   \n",
       "4512                 f  https://a0.muscache.com/im/pictures/user/a3685...   \n",
       "\n",
       "                                       host_picture_url host_neighbourhood  \\\n",
       "2381  https://a0.muscache.com/im/pictures/user/04e69...                NaN   \n",
       "6116  https://a0.muscache.com/im/pictures/user/78709...                NaN   \n",
       "7775  https://a0.muscache.com/im/pictures/user/f8f5c...                NaN   \n",
       "3736  https://a0.muscache.com/im/pictures/user/14e5a...                NaN   \n",
       "4512  https://a0.muscache.com/im/pictures/user/a3685...                NaN   \n",
       "\n",
       "      host_listings_count  host_total_listings_count  host_verifications  \\\n",
       "2381                    1                          1  ['email', 'phone']   \n",
       "6116                    1                          1  ['email', 'phone']   \n",
       "7775                    1                          2  ['email', 'phone']   \n",
       "3736                    1                          2  ['email', 'phone']   \n",
       "4512                   12                         13  ['email', 'phone']   \n",
       "\n",
       "     host_has_profile_pic host_identity_verified  \\\n",
       "2381                    t                      t   \n",
       "6116                    t                      t   \n",
       "7775                    t                      t   \n",
       "3736                    t                      f   \n",
       "4512                    t                      t   \n",
       "\n",
       "                                 neighbourhood neighbourhood_cleansed  \\\n",
       "2381   Farellones, Región Metropolitana, Chile           Lo Barnechea   \n",
       "6116   Las Condes, Región Metropolitana, Chile             Las Condes   \n",
       "7775  Providencia, Región Metropolitana, Chile            Providencia   \n",
       "3736        Maipú, Región Metropolitana, Chile                  Maipú   \n",
       "4512                                       NaN            Providencia   \n",
       "\n",
       "      neighbourhood_group_cleansed  latitude  longitude  \\\n",
       "2381                           NaN -33.35292  -70.24881   \n",
       "6116                           NaN -33.41674  -70.57165   \n",
       "7775                           NaN -33.43110  -70.61892   \n",
       "3736                           NaN -33.52527  -70.76594   \n",
       "4512                           NaN -33.44137  -70.63267   \n",
       "\n",
       "                    property_type        room_type  accommodates  bathrooms  \\\n",
       "2381           Entire rental unit  Entire home/apt             3        1.0   \n",
       "6116  Private room in rental unit     Private room             1        1.0   \n",
       "7775        Private room in condo     Private room             1        1.0   \n",
       "3736     Private room in bungalow     Private room             2        NaN   \n",
       "4512       Private room in hostel     Private room             2        NaN   \n",
       "\n",
       "      bathrooms_text  bedrooms  beds  \\\n",
       "2381          1 bath       1.0   2.0   \n",
       "6116   1 shared bath       1.0   1.0   \n",
       "7775  1 private bath       1.0   0.0   \n",
       "3736   1 shared bath       NaN   NaN   \n",
       "4512  1 private bath       1.0   NaN   \n",
       "\n",
       "                                              amenities        price  \\\n",
       "2381  [\"Resort access\", \"Hot water kettle\", \"Freezer...  $260,000.00   \n",
       "6116  [\"Hot water kettle\", \"Dining table\", \"Freezer\"...   $18,000.00   \n",
       "7775  [\"Hot water kettle\", \"Dining table\", \"Freezer\"...   $20,740.00   \n",
       "3736  [\"Wifi\", \"Indoor fireplace\", \"TV\", \"Kitchen\", ...          NaN   \n",
       "4512  [\"Wifi\", \"TV\", \"Essentials\", \"Air conditioning...          NaN   \n",
       "\n",
       "      minimum_nights  maximum_nights  minimum_minimum_nights  \\\n",
       "2381               4            1125                       3   \n",
       "6116               1            1125                       1   \n",
       "7775               1             365                       1   \n",
       "3736               1              10                       1   \n",
       "4512               1            1125                       1   \n",
       "\n",
       "      maximum_minimum_nights  minimum_maximum_nights  maximum_maximum_nights  \\\n",
       "2381                       4                    1125                    1125   \n",
       "6116                       1                    1125                    1125   \n",
       "7775                       1                     365                     365   \n",
       "3736                       1                      10                      10   \n",
       "4512                       1                    1125                    1125   \n",
       "\n",
       "      minimum_nights_avg_ntm  maximum_nights_avg_ntm  calendar_updated  \\\n",
       "2381                     3.7                  1125.0               NaN   \n",
       "6116                     1.0                  1125.0               NaN   \n",
       "7775                     1.0                   365.0               NaN   \n",
       "3736                     1.0                    10.0               NaN   \n",
       "4512                     1.0                  1125.0               NaN   \n",
       "\n",
       "     has_availability  availability_30  availability_60  availability_90  \\\n",
       "2381                t                5               15               42   \n",
       "6116                t                1                1                1   \n",
       "7775                t                4                4               32   \n",
       "3736              NaN                0                0                0   \n",
       "4512                t               30               60               90   \n",
       "\n",
       "      availability_365 calendar_last_scraped  number_of_reviews  \\\n",
       "2381               317            2024-06-29                 23   \n",
       "6116               272            2024-06-29                  9   \n",
       "7775               128            2024-06-29                 36   \n",
       "3736                 0            2024-06-29                  7   \n",
       "4512               365            2024-06-29                  0   \n",
       "\n",
       "      number_of_reviews_ltm  number_of_reviews_l30d first_review last_review  \\\n",
       "2381                      7                       0   2018-07-20  2023-09-22   \n",
       "6116                      0                       0   2022-07-25  2023-02-10   \n",
       "7775                     25                       3   2023-04-02  2024-06-20   \n",
       "3736                      0                       0   2020-12-16  2023-01-29   \n",
       "4512                      0                       0          NaN         NaN   \n",
       "\n",
       "      review_scores_rating  review_scores_accuracy  review_scores_cleanliness  \\\n",
       "2381                  4.96                    4.96                       4.96   \n",
       "6116                  4.11                    4.11                       3.67   \n",
       "7775                  5.00                    5.00                       4.97   \n",
       "3736                  5.00                    5.00                       5.00   \n",
       "4512                   NaN                     NaN                        NaN   \n",
       "\n",
       "      review_scores_checkin  review_scores_communication  \\\n",
       "2381                   5.00                         5.00   \n",
       "6116                   4.78                         4.33   \n",
       "7775                   5.00                         5.00   \n",
       "3736                   5.00                         5.00   \n",
       "4512                    NaN                          NaN   \n",
       "\n",
       "      review_scores_location  review_scores_value license instant_bookable  \\\n",
       "2381                    4.91                 4.43     NaN                f   \n",
       "6116                    4.78                 3.89     NaN                f   \n",
       "7775                    5.00                 5.00     NaN                f   \n",
       "3736                    5.00                 5.00     NaN                f   \n",
       "4512                     NaN                  NaN     NaN                t   \n",
       "\n",
       "      calculated_host_listings_count  \\\n",
       "2381                               1   \n",
       "6116                               1   \n",
       "7775                               1   \n",
       "3736                               1   \n",
       "4512                              12   \n",
       "\n",
       "      calculated_host_listings_count_entire_homes  \\\n",
       "2381                                            1   \n",
       "6116                                            0   \n",
       "7775                                            0   \n",
       "3736                                            0   \n",
       "4512                                            0   \n",
       "\n",
       "      calculated_host_listings_count_private_rooms  \\\n",
       "2381                                             0   \n",
       "6116                                             1   \n",
       "7775                                             1   \n",
       "3736                                             1   \n",
       "4512                                            12   \n",
       "\n",
       "      calculated_host_listings_count_shared_rooms  reviews_per_month  \n",
       "2381                                            0               0.32  \n",
       "6116                                            0               0.38  \n",
       "7775                                            0               2.37  \n",
       "3736                                            0               0.16  \n",
       "4512                                            0                NaN  "
      ]
     },
     "execution_count": 8,
     "metadata": {},
     "output_type": "execute_result"
    }
   ],
   "source": [
    "listings_Santiago_df.sample(5) # Showing a sample of n rows"
   ]
  },
  {
   "cell_type": "markdown",
   "id": "8a48a9a6-7266-472f-be40-c820e199a029",
   "metadata": {},
   "source": [
    "### 2. Univariate analysis"
   ]
  },
  {
   "cell_type": "code",
   "execution_count": null,
   "id": "15a2aee6-4720-477f-96b5-da43cc930db5",
   "metadata": {},
   "outputs": [],
   "source": [
    "# Showing the number of unique values of listing ids\n",
    "# This can be helpful to diagnose duplicity\n",
    "listings_df[\"id\"].nunique()"
   ]
  },
  {
   "cell_type": "code",
   "execution_count": null,
   "id": "bc04351d-8e46-49ee-9c41-3682e24bd494",
   "metadata": {},
   "outputs": [],
   "source": [
    "# Showing unique values of neighborhoods\n",
    "listings_df[\"neighbourhood_cleansed\"].unique()"
   ]
  },
  {
   "cell_type": "code",
   "execution_count": null,
   "id": "31768fab-c8d6-46e1-bca2-58b43d2f7a8f",
   "metadata": {},
   "outputs": [],
   "source": [
    "# Calculating the relative frecuency of room types\n",
    "listings_df[\"room_type\"].value_counts(dropna=False, normalize=True) # You can set normalize to False for calculating the absolute frecuency"
   ]
  },
  {
   "cell_type": "code",
   "execution_count": null,
   "id": "35a2314f-25d7-4cf8-bc4f-48da44610479",
   "metadata": {},
   "outputs": [],
   "source": [
    "# Calculating basic statistics of accommodates\n",
    "listings_df[\"accommodates\"].describe(percentiles=[0.05, 0.25, 0.5, 0.75, 0.95])"
   ]
  },
  {
   "cell_type": "markdown",
   "id": "2c587eb0-50fd-4c28-8f78-404b30cdcf08",
   "metadata": {},
   "source": [
    "<span style=\"color: red;\">What does it mean the value of 0 for this attribute?</span>"
   ]
  },
  {
   "cell_type": "code",
   "execution_count": null,
   "id": "a7ce14e6-d333-4740-9fb0-ffdff904c06c",
   "metadata": {},
   "outputs": [],
   "source": [
    "# We need to transform the price attribute from object to float\n",
    "listings_df[\"price_float\"] = listings_df[\"price\"].str.replace(\"[$,]\", \"\", regex=True).astype(float)"
   ]
  },
  {
   "cell_type": "code",
   "execution_count": null,
   "id": "e9d82956-e456-41b6-8c00-61176622ec39",
   "metadata": {},
   "outputs": [],
   "source": [
    "# Plotting a histogram for price\n",
    "plt.figure(figsize=(20, 5))\n",
    "plt.hist(listings_df[\"price_float\"], bins=50)\n",
    "plt.title(\"Price distribution\")\n",
    "plt.plot()"
   ]
  },
  {
   "cell_type": "markdown",
   "id": "475ab96f-e169-4998-ae2d-563123991e30",
   "metadata": {},
   "source": [
    "<span style=\"color: red;\">This attribute has an extreme outlier making difficult a proper visualization?</span>"
   ]
  },
  {
   "cell_type": "code",
   "execution_count": null,
   "id": "c0cd6073-7c39-4216-a807-e905a2bc7a88",
   "metadata": {},
   "outputs": [],
   "source": [
    "# Let's make some calculations for determining an outlier threshold\n",
    "q1 = listings_df[\"price_float\"].quantile(0.25)\n",
    "q3 = listings_df[\"price_float\"].quantile(0.75)\n",
    "iqr = q3 - q1"
   ]
  },
  {
   "cell_type": "code",
   "execution_count": null,
   "id": "687f2fcc-a10e-4324-b016-bba3ed48c4fb",
   "metadata": {},
   "outputs": [],
   "source": [
    "plt.figure(figsize=(20, 5))\n",
    "plt.hist(listings_df.loc[listings_df[\"price_float\"] <= (q3 + 1.5 * iqr)][\"price_float\"], bins=50)\n",
    "plt.title(\"Price distribution\")\n",
    "plt.plot()"
   ]
  },
  {
   "cell_type": "code",
   "execution_count": null,
   "id": "00907541-9b1c-4830-a5a1-af76efee77a5",
   "metadata": {},
   "outputs": [],
   "source": [
    "# Plotting bar charts for has availability and instant bookable\n",
    "fig, (ax1, ax2) = plt.subplots(1, 2, sharey=True, figsize=(20, 5))\n",
    "listings_df[\"has_availability\"].value_counts().plot(kind=\"bar\", ax=ax1, color=\"orange\")\n",
    "listings_df[\"instant_bookable\"].value_counts().sort_index(ascending=False).plot(kind=\"bar\", ax=ax2, color=\"green\")\n",
    "ax1.set_title(\"Has availability frecuency\")\n",
    "ax2.set_title(\"Instant bookable frecuency\")\n",
    "plt.show()"
   ]
  },
  {
   "cell_type": "code",
   "execution_count": null,
   "id": "ce4dd2d6-eda2-4c26-89d2-bba762a5c7be",
   "metadata": {},
   "outputs": [],
   "source": [
    "# Plotting a boxplot for number of reviews\n",
    "plt.figure(figsize=(20, 5))\n",
    "plt.boxplot(listings_df[\"number_of_reviews\"], showmeans=True, vert=False)\n",
    "plt.title(\"Number of reviews distribution\")\n",
    "plt.show()"
   ]
  },
  {
   "cell_type": "markdown",
   "id": "0fd7cbf9-44ba-49e6-9166-9de23e45ec2a",
   "metadata": {},
   "source": [
    "### 2. Bivariate analysis"
   ]
  },
  {
   "cell_type": "code",
   "execution_count": null,
   "id": "012035ff-0256-4309-a356-0b30f48a3f83",
   "metadata": {},
   "outputs": [],
   "source": [
    "# Plotting correlation heatmap among review scores\n",
    "plt.figure(figsize=(10, 8))\n",
    "sns.heatmap(\n",
    "    listings_df[[\"review_scores_rating\", \"review_scores_accuracy\", \"review_scores_cleanliness\", \"review_scores_checkin\", \"review_scores_communication\", \"review_scores_location\", \"review_scores_value\"]].corr(),\n",
    "    vmin=0.5, vmax=1,\n",
    "    cmap=\"Blues\"\n",
    ")\n",
    "plt.title(\"Correlation among review scores\")\n",
    "plt.show()"
   ]
  },
  {
   "cell_type": "code",
   "execution_count": null,
   "id": "6c18b3ff-477e-4377-84d5-bf24561bf5b0",
   "metadata": {},
   "outputs": [],
   "source": [
    "# For large datasets, some visualizations are innefective when trying to represent individual instances\n",
    "# A naive strategy is to use only a random sample to visualize\n",
    "listings_sample_df =  listings_df.loc[listings_df[\"price_float\"] <= (q3 + 1.5 * iqr)].sample(frac=0.1)\n",
    "listings_sample_df.shape"
   ]
  },
  {
   "cell_type": "code",
   "execution_count": null,
   "id": "8a0aa277-64e2-4514-a790-5ef33b08c60c",
   "metadata": {},
   "outputs": [],
   "source": [
    "# Plotting the relationship between price and review score value\n",
    "plt.figure(figsize=(10, 8))\n",
    "sns.scatterplot(\n",
    "    x=listings_sample_df[\"price_float\"],\n",
    "    y=listings_sample_df[\"review_scores_value\"]\n",
    ")\n",
    "plt.title(\"Relationship between price and review score value\")\n",
    "plt.grid()\n",
    "plt.show()"
   ]
  },
  {
   "cell_type": "code",
   "execution_count": null,
   "id": "61cc79c7-320d-4440-8037-41e9199d63e1",
   "metadata": {},
   "outputs": [],
   "source": [
    "# Another common strategy for working with datasets with high variability is by filtering the dataset by representative groups according to the context\n",
    "# In this sense, let's work only with the neighbourhoods with more listings (pareto analysis)\n",
    "neighbourhood_frec_cumsum = listings_df[\"neighbourhood_cleansed\"].value_counts(normalize=True).cumsum()"
   ]
  },
  {
   "cell_type": "code",
   "execution_count": null,
   "id": "378c7a38-340b-4d27-93dc-3543e968a3bf",
   "metadata": {},
   "outputs": [],
   "source": [
    "# Plotting pareto analysis for neighbourhood frecuency\n",
    "plt.figure(figsize=(20, 8))\n",
    "neighbourhood_frec_cumsum.plot(kind=\"bar\", color=\"steelblue\")\n",
    "plt.title(\"Pareto analysis for neighbourhood frecuency\")\n",
    "plt.grid(axis=\"y\")\n",
    "plt.show()"
   ]
  },
  {
   "cell_type": "code",
   "execution_count": null,
   "id": "33438d16-edd6-409e-b826-03f0fae9a365",
   "metadata": {},
   "outputs": [],
   "source": [
    "most_representative_neighbourhoods = neighbourhood_frec_cumsum.loc[neighbourhood_frec_cumsum < 0.8].index.tolist()\n",
    "most_representative_neighbourhoods"
   ]
  },
  {
   "cell_type": "code",
   "execution_count": null,
   "id": "b5a80f27-e24c-44f6-ab63-60d26a3e6f2e",
   "metadata": {},
   "outputs": [],
   "source": [
    "# Plotting price distribution by neighborhood\n",
    "fig, ax = plt.subplots(1, 1, figsize=(20, 8))\n",
    "sns.kdeplot(\n",
    "    data=listings_df.loc[listings_df[\"price_float\"] <= (q3 + 1.5 * iqr)].loc[listings_df[\"neighbourhood_cleansed\"].isin(most_representative_neighbourhoods)],\n",
    "    x=\"price_float\",\n",
    "    hue=\"neighbourhood_cleansed\",\n",
    "    bw_adjust=.3,\n",
    "    ax=ax\n",
    ")\n",
    "for (neighbourhood, color) in zip(most_representative_neighbourhoods, [\"steelblue\", \"orange\", \"green\"]):\n",
    "    ax.axvline(listings_df.loc[listings_df[\"price_float\"] <= (q3 + 1.5 * iqr)].loc[listings_df[\"neighbourhood_cleansed\"] == neighbourhood, \"price_float\"].mean(), color=color, linestyle=\"dashed\", linewidth=2, ymax=0.2)\n",
    "plt.title(\"Price distribution by neighbourhood (with means)\")\n",
    "plt.show()"
   ]
  },
  {
   "cell_type": "code",
   "execution_count": null,
   "id": "9ce88223-27ef-4d3d-bd02-2402156c1eb6",
   "metadata": {},
   "outputs": [],
   "source": [
    "# Plotting number of reviews distribution by neighbourhood\n",
    "fig, ax = plt.subplots(1, 1, figsize=(20, 8))\n",
    "sns.kdeplot(\n",
    "    data=listings_df.loc[listings_df[\"price_float\"] <= (q3 + 1.5 * iqr)].loc[listings_df[\"neighbourhood_cleansed\"].isin(most_representative_neighbourhoods)],\n",
    "    x=\"number_of_reviews\",\n",
    "    hue=\"neighbourhood_cleansed\",\n",
    "    bw_adjust=.3,\n",
    "    ax=ax\n",
    ")\n",
    "for (neighbourhood, color) in zip(most_representative_neighbourhoods, [\"steelblue\", \"orange\", \"green\"]):\n",
    "    ax.axvline(listings_df.loc[listings_df[\"price_float\"] <= (q3 + 1.5 * iqr)].loc[listings_df[\"neighbourhood_cleansed\"] == neighbourhood, \"number_of_reviews\"].mean(), color=color, linestyle=\"dashed\", linewidth=2, ymax=0.2)\n",
    "plt.title(\"Price distribution by neighbourhood (with means)\")\n",
    "plt.xlim([0, 200])\n",
    "plt.show()"
   ]
  },
  {
   "cell_type": "code",
   "execution_count": null,
   "id": "450329bb-2b75-4f34-b704-637a632fba27",
   "metadata": {},
   "outputs": [],
   "source": []
  }
 ],
 "metadata": {
  "kernelspec": {
   "display_name": "Python 3 (ipykernel)",
   "language": "python",
   "name": "python3"
  },
  "language_info": {
   "codemirror_mode": {
    "name": "ipython",
    "version": 3
   },
   "file_extension": ".py",
   "mimetype": "text/x-python",
   "name": "python",
   "nbconvert_exporter": "python",
   "pygments_lexer": "ipython3",
   "version": "3.12.1"
  }
 },
 "nbformat": 4,
 "nbformat_minor": 5
}
